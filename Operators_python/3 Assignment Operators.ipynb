{
 "cells": [
  {
   "cell_type": "markdown",
   "metadata": {},
   "source": [
    "# Python Operators"
   ]
  },
  {
   "cell_type": "code",
   "execution_count": null,
   "metadata": {},
   "outputs": [],
   "source": []
  },
  {
   "cell_type": "raw",
   "metadata": {},
   "source": [
    "The operator can be defined as a symbol which is responsible for a particular operation between two operands.\n",
    "\n",
    "Python Operators in general are used to perform operations on values and variables.\n",
    "\n",
    "Operators are the pillars of a program on which the logic is built in a specific programming language."
   ]
  },
  {
   "cell_type": "raw",
   "metadata": {},
   "source": [
    "Python provides a variety of operators, which are described as follows.\n",
    "\n",
    "1. Arithmetic operators\n",
    "\n",
    "2. Comparison operators\n",
    "\n",
    "3. Assignment Operators\n",
    "\n",
    "4. Logical Operators\n",
    "\n",
    "5. Bitwise Operators\n",
    "\n",
    "6. Membership Operators\n",
    "\n",
    "7. Identity Operators\n",
    "\n",
    "8. Precedence and Associativity Operator\n",
    "\n",
    "9. Shift Operators\n",
    "\n",
    "10. Escape Operators"
   ]
  },
  {
   "cell_type": "markdown",
   "metadata": {},
   "source": [
    "# Assignment Operators"
   ]
  },
  {
   "cell_type": "raw",
   "metadata": {},
   "source": [
    "1.  Operators are used to perform operations on values and variables. \n",
    "\n",
    "2.  These are the special symbols that carry out arithmetic, logical, bitwise computations. The value the operator operates on is known as Operand.\n",
    "\n",
    "3. The assignment operators are used to assign the value of the right expression to the left operand. The assignment operators are described in the following table.\n",
    "\n",
    "4. Here, we will cover Assignment Operators in Python. So, Assignment Operators are used to assigning values to variables. "
   ]
  },
  {
   "cell_type": "raw",
   "metadata": {},
   "source": [
    "Operator\t          Description\n",
    "   =\t     It assigns the value of the right expression to the left operand.\n",
    "  \n",
    "  +=\t     It increases the value of the left operand by the value of the right operand and assigns \n",
    "             the modified value back to left operand. For example, if a = 10, b = 20 => a+ = b will                be equal to a = a+ b and therefore, a = 30.\n",
    " \n",
    " -=\t         It decreases the value of the left operand by the value of the right operand and assigns              the modified value back to left operand. For example, if a = 20, b = 10 => a- = b will                be equal to a = a- b and therefore, a = 10.\n",
    "  \n",
    "  *=\t     It multiplies the value of the left operand by the value of the right operand and     \n",
    "             assigns the       modified value back to then the left operand. For example, if a = 10,              b = 20 => a* = b will be equal to a = a* b and therefore, a = 200.\n",
    "  \n",
    "  %=\t     It divides the value of the left operand by the value of the right operand and assigns \n",
    "             the reminder back to the left operand. For example, if a = 20, b = 10 => a % = b will be              equal to a = a % b and therefore, a = 0.\n",
    "  \n",
    "  **=\t     a**=b will be equal to a=a**b, for example, if a = 4, b =2, a**=b will assign 4**2 = 16 \n",
    "             to a.\n",
    "  \n",
    "  //=\t     A//=b will be equal to a = a// b, for example, if a = 4, b = 3, a//=b will assign 4//3 = \n",
    "             1 to a."
   ]
  },
  {
   "cell_type": "code",
   "execution_count": null,
   "metadata": {},
   "outputs": [],
   "source": [
    "a="
   ]
  },
  {
   "cell_type": "code",
   "execution_count": null,
   "metadata": {},
   "outputs": [],
   "source": []
  },
  {
   "cell_type": "code",
   "execution_count": 1,
   "metadata": {},
   "outputs": [],
   "source": [
    "a=10"
   ]
  },
  {
   "cell_type": "code",
   "execution_count": null,
   "metadata": {},
   "outputs": [],
   "source": [
    "a=a+6"
   ]
  },
  {
   "cell_type": "code",
   "execution_count": 2,
   "metadata": {},
   "outputs": [],
   "source": [
    "a-=6"
   ]
  },
  {
   "cell_type": "code",
   "execution_count": 3,
   "metadata": {},
   "outputs": [
    {
     "data": {
      "text/plain": [
       "16"
      ]
     },
     "execution_count": 3,
     "metadata": {},
     "output_type": "execute_result"
    }
   ],
   "source": [
    "a"
   ]
  },
  {
   "cell_type": "raw",
   "metadata": {},
   "source": [
    "Operator              Description                                                      Syntax\n",
    "\n",
    "  =             Assign value of right side of expression to left side operand\t      x = y + z \n",
    "\n",
    " +=             Add and Assign: Add right side operand with left side operand \n",
    "                and then assign to left operand\t                                      a += b   \n",
    "\n",
    "-=              Subtract AND: Subtract right operand from left operand and \n",
    "                then assign to left operand: True if both operands are equal\t      a -= b  \n",
    "\n",
    "*=              Multiply AND: Multiply right operand with left operand and \n",
    "                then assign to left operand\t                                          a *= b     \n",
    "                \n",
    "                \n",
    "/=              Divide AND: Divide left operand with right operand and \n",
    "                then assign to left operand\t                                          a /= b\n",
    "\n",
    "\n",
    "%=              Modulus AND: Takes modulus using left and right operands and \n",
    "                assign result to left operand\t                                      a %= b  \n",
    "\n",
    "\n",
    "//=             Divide(floor) AND: Divide left operand with right operand and \n",
    "                then assign the value(floor) to left operand\t                        a //= b   \n",
    "\n",
    "\n",
    "**=             Exponent AND: Calculate exponent(raise power) value using operands \n",
    "                and assign value to left operand\t                                   a **= b  \n",
    "                \n",
    "                \n",
    " &=             Performs Bitwise AND on operands and assign value to left operand\t    a &= b   \n",
    "\n",
    "\n",
    "|=              Performs Bitwise OR on operands and assign value to left operand\t    a |= b    \n",
    "\n",
    "\n",
    "^=              Performs Bitwise xOR on operands and assign value to left operand\t    a ^= b    \n",
    "\n",
    "\n",
    ">>=             Performs Bitwise right shift on operands and assign value \n",
    "                to left operand\t                                                        a >>= b     \n",
    "\n",
    "\n",
    "<<=             Performs Bitwise left shift on operands and assign value \n",
    "                to left operand\t                                                        a <<= b "
   ]
  },
  {
   "cell_type": "markdown",
   "metadata": {},
   "source": [
    "# Now Let’s see each Assignment Operator one by one."
   ]
  },
  {
   "cell_type": "raw",
   "metadata": {},
   "source": [
    "\n",
    "\n",
    "1) Assign: This operator is used to assign the value of the right side of the expression to the left side operand.\n",
    "\n",
    "Syntax:\n",
    "\n",
    "x = y + z"
   ]
  },
  {
   "cell_type": "code",
   "execution_count": 1,
   "metadata": {},
   "outputs": [
    {
     "name": "stdout",
     "output_type": "stream",
     "text": [
      "8\n"
     ]
    }
   ],
   "source": [
    "# Assigning values using\n",
    "# Assignment Operator\n",
    "\n",
    "a = 3\n",
    "b = 5\n",
    "\n",
    "c = a + b\n",
    "\n",
    "# Output\n",
    "print(c)\n"
   ]
  },
  {
   "cell_type": "raw",
   "metadata": {},
   "source": [
    "2) Add and Assign: This operator is used to add the right side operand with the left side operand and then assigning the result to the left operand.\n",
    "\n",
    "Syntax: \n",
    "\n",
    "x += y"
   ]
  },
  {
   "cell_type": "code",
   "execution_count": 2,
   "metadata": {},
   "outputs": [
    {
     "name": "stdout",
     "output_type": "stream",
     "text": [
      "8\n"
     ]
    }
   ],
   "source": [
    "a = 3\n",
    "b = 5\n",
    "\n",
    "# a = a + b\n",
    "a += b\n",
    "\n",
    "# Output\n",
    "print(a)\n"
   ]
  },
  {
   "cell_type": "raw",
   "metadata": {},
   "source": [
    "3) Subtract and Assign: This operator is used to subtract the right operand from the left operand and then assigning the result to the left operand.\n",
    "\n",
    "Syntax:\n",
    "\n",
    "x -= y"
   ]
  },
  {
   "cell_type": "code",
   "execution_count": 3,
   "metadata": {},
   "outputs": [
    {
     "name": "stdout",
     "output_type": "stream",
     "text": [
      "-2\n"
     ]
    }
   ],
   "source": [
    "a = 3\n",
    "b = 5\n",
    "\n",
    "# a = a - b\n",
    "a -= b\n",
    "\n",
    "# Output\n",
    "print(a)\n"
   ]
  },
  {
   "cell_type": "raw",
   "metadata": {},
   "source": [
    "4) Multiply and Assign: This operator is used to multiply the right operand with the left operand and then assigning the result to the left operand.\n",
    "\n",
    "Syntax:\n",
    "\n",
    "x *= y"
   ]
  },
  {
   "cell_type": "code",
   "execution_count": 4,
   "metadata": {},
   "outputs": [
    {
     "name": "stdout",
     "output_type": "stream",
     "text": [
      "15\n"
     ]
    }
   ],
   "source": [
    "a = 3\n",
    "b = 5\n",
    "\n",
    "# a = a * b\n",
    "a *= b\n",
    "\n",
    "# Output\n",
    "print(a)\n"
   ]
  },
  {
   "cell_type": "raw",
   "metadata": {},
   "source": [
    "5) Divide and Assign: This operator is used to divide the left operand with the right operand and then assigning the result to the left operand.\n",
    "\n",
    "Syntax: \n",
    "\n",
    "x /= y"
   ]
  },
  {
   "cell_type": "code",
   "execution_count": 5,
   "metadata": {},
   "outputs": [
    {
     "name": "stdout",
     "output_type": "stream",
     "text": [
      "0.6\n"
     ]
    }
   ],
   "source": [
    "a = 3\n",
    "b = 5\n",
    "\n",
    "# a = a / b\n",
    "a /= b\n",
    "\n",
    "# Output\n",
    "print(a)\n"
   ]
  },
  {
   "cell_type": "raw",
   "metadata": {},
   "source": [
    "6) Modulus and Assign: This operator is used to take the modulus using the left and the right operands and then assigning the result to the left operand.\n",
    "\n",
    "Syntax:\n",
    "\n",
    "x %= y"
   ]
  },
  {
   "cell_type": "code",
   "execution_count": 6,
   "metadata": {},
   "outputs": [
    {
     "name": "stdout",
     "output_type": "stream",
     "text": [
      "3\n"
     ]
    }
   ],
   "source": [
    "a = 3\n",
    "b = 5\n",
    "\n",
    "# a = a % b\n",
    "a %= b\n",
    "\n",
    "# Output\n",
    "print(a)\n",
    "\n"
   ]
  },
  {
   "cell_type": "raw",
   "metadata": {},
   "source": [
    "7) Divide (floor) and Assign: This operator is used to divide the left operand with the right operand and then assigning the result(floor) to the left operand.\n",
    "\n",
    "Syntax:\n",
    "\n",
    "x //= y\n"
   ]
  },
  {
   "cell_type": "code",
   "execution_count": 7,
   "metadata": {},
   "outputs": [
    {
     "name": "stdout",
     "output_type": "stream",
     "text": [
      "0\n"
     ]
    }
   ],
   "source": [
    "a = 3\n",
    "b = 5\n",
    "\n",
    "# a = a // b\n",
    "a //= b\n",
    "\n",
    "# Output\n",
    "print(a)\n"
   ]
  },
  {
   "cell_type": "raw",
   "metadata": {},
   "source": [
    "8) Exponent and Assign: This operator is used to calculate the exponent(raise power) value using operands and then assigning the result to the left operand.\n",
    "\n",
    "Syntax:\n",
    "\n",
    "x **= y"
   ]
  },
  {
   "cell_type": "code",
   "execution_count": 8,
   "metadata": {},
   "outputs": [
    {
     "name": "stdout",
     "output_type": "stream",
     "text": [
      "243\n"
     ]
    }
   ],
   "source": [
    "a = 3\n",
    "b = 5\n",
    "\n",
    "# a = a ** b\n",
    "a **= b\n",
    "\n",
    "# Output\n",
    "print(a)\n"
   ]
  },
  {
   "cell_type": "raw",
   "metadata": {},
   "source": [
    "9) Bitwise AND and Assign: This operator is used to perform Bitwise AND on both operands and then assigning the result to the left operand.\n",
    "\n",
    "Syntax:\n",
    "\n",
    "x &= y"
   ]
  },
  {
   "cell_type": "code",
   "execution_count": 9,
   "metadata": {},
   "outputs": [
    {
     "name": "stdout",
     "output_type": "stream",
     "text": [
      "1\n"
     ]
    }
   ],
   "source": [
    "a = 3\n",
    "b = 5\n",
    "\n",
    "# a = a & b\n",
    "a &= b\n",
    "\n",
    "# Output\n",
    "print(a)\n"
   ]
  },
  {
   "cell_type": "raw",
   "metadata": {},
   "source": [
    "10) Bitwise OR and Assign: This operator is used to perform Bitwise OR on the operands and then assigning result to the left operand.\n",
    "\n",
    "Syntax:\n",
    "\n",
    "x |= y"
   ]
  },
  {
   "cell_type": "code",
   "execution_count": 10,
   "metadata": {},
   "outputs": [
    {
     "name": "stdout",
     "output_type": "stream",
     "text": [
      "7\n"
     ]
    }
   ],
   "source": [
    "a = 3\n",
    "b = 5\n",
    "\n",
    "# a = a | b\n",
    "a |= b\n",
    "\n",
    "# Output\n",
    "print(a)\n"
   ]
  },
  {
   "cell_type": "raw",
   "metadata": {},
   "source": [
    "11) Bitwise XOR and Assign: This operator is used to perform Bitwise XOR on the operands and then assigning result to the left operand.\n",
    "\n",
    "Syntax:\n",
    "\n",
    "x ^= y"
   ]
  },
  {
   "cell_type": "code",
   "execution_count": 11,
   "metadata": {},
   "outputs": [
    {
     "name": "stdout",
     "output_type": "stream",
     "text": [
      "6\n"
     ]
    }
   ],
   "source": [
    "a = 3\n",
    "b = 5\n",
    "\n",
    "# a = a ^ b\n",
    "a ^= b\n",
    "\n",
    "# Output\n",
    "print(a)\n"
   ]
  },
  {
   "cell_type": "raw",
   "metadata": {},
   "source": [
    "12) Bitwise Right Shift and Assign: This operator is used to perform Bitwise right shift on the operands and then assigning result to the left operand.\n",
    "\n",
    "Syntax:\n",
    "\n",
    "x >>= y"
   ]
  },
  {
   "cell_type": "code",
   "execution_count": 12,
   "metadata": {},
   "outputs": [
    {
     "name": "stdout",
     "output_type": "stream",
     "text": [
      "0\n"
     ]
    }
   ],
   "source": [
    "a = 3\n",
    "b = 5\n",
    "\n",
    "# a = a >> b\n",
    "a >>= b\n",
    "\n",
    "# Output\n",
    "print(a)\n"
   ]
  },
  {
   "cell_type": "raw",
   "metadata": {},
   "source": [
    "13) Bitwise Left Shift and Assign: This operator is used to perform Bitwise left shift on the operands and then assigning result to the left operand.\n",
    "\n",
    "Syntax:\n",
    "\n",
    "x <<= y"
   ]
  },
  {
   "cell_type": "code",
   "execution_count": 13,
   "metadata": {},
   "outputs": [
    {
     "name": "stdout",
     "output_type": "stream",
     "text": [
      "96\n"
     ]
    }
   ],
   "source": [
    "a = 3\n",
    "b = 5\n",
    "\n",
    "# a = a << b\n",
    "a <<= b\n",
    "\n",
    "# Output\n",
    "print(a)\n"
   ]
  },
  {
   "cell_type": "code",
   "execution_count": 14,
   "metadata": {},
   "outputs": [
    {
     "name": "stdout",
     "output_type": "stream",
     "text": [
      "10\n",
      "20\n",
      "10\n",
      "100\n",
      "102400\n"
     ]
    }
   ],
   "source": [
    "# Examples of Assignment Operators\n",
    "a = 10\n",
    "\n",
    "# Assign value\n",
    "b = a\n",
    "print(b)\n",
    "\n",
    "# Add and assign value\n",
    "b += a\n",
    "print(b)\n",
    "\n",
    "# Subtract and assign value\n",
    "b -= a\n",
    "print(b)\n",
    "\n",
    "# multiply and assign\n",
    "b *= a\n",
    "print(b)\n",
    "\n",
    "# bitwise lishift operator\n",
    "b <<= a\n",
    "print(b)\n"
   ]
  },
  {
   "cell_type": "code",
   "execution_count": null,
   "metadata": {},
   "outputs": [],
   "source": []
  },
  {
   "cell_type": "code",
   "execution_count": null,
   "metadata": {},
   "outputs": [],
   "source": []
  }
 ],
 "metadata": {
  "kernelspec": {
   "display_name": "Python 3",
   "language": "python",
   "name": "python3"
  },
  "language_info": {
   "codemirror_mode": {
    "name": "ipython",
    "version": 3
   },
   "file_extension": ".py",
   "mimetype": "text/x-python",
   "name": "python",
   "nbconvert_exporter": "python",
   "pygments_lexer": "ipython3",
   "version": "3.8.5"
  }
 },
 "nbformat": 4,
 "nbformat_minor": 4
}
