{
 "cells": [
  {
   "cell_type": "markdown",
   "metadata": {},
   "source": [
    "# Python Operators"
   ]
  },
  {
   "cell_type": "raw",
   "metadata": {},
   "source": [
    "The operator can be defined as a symbol which is responsible for a particular operation between two operands.\n",
    "\n",
    "Python Operators in general are used to perform operations on values and variables.\n",
    "\n",
    "Operators are the pillars of a program on which the logic is built in a specific programming language."
   ]
  },
  {
   "cell_type": "raw",
   "metadata": {},
   "source": [
    "Python provides a variety of operators, which are described as follows.\n",
    "\n",
    "1. Arithmetic operators\n",
    "\n",
    "2. Comparison operators\n",
    "\n",
    "3. Assignment Operators\n",
    "\n",
    "4. Logical Operators\n",
    "\n",
    "5. Bitwise Operators\n",
    "\n",
    "6. Membership Operators\n",
    "\n",
    "7. Identity Operators\n",
    "\n",
    "8. Precedence and Associativity Operator\n",
    "\n",
    "9. Shift Operators\n",
    "\n",
    "10. Escape Operators"
   ]
  },
  {
   "cell_type": "markdown",
   "metadata": {},
   "source": [
    "# Logical Operators"
   ]
  },
  {
   "cell_type": "raw",
   "metadata": {},
   "source": [
    "\n",
    "The logical operators are used primarily in the expression evaluation to make a decision. Python supports the following logical operators."
   ]
  },
  {
   "cell_type": "raw",
   "metadata": {},
   "source": [
    "Operator\t           Description\n",
    "\n",
    "and\t            If both the expression are true, then the condition will be true. If a and b are the \n",
    "                two expressions, a → true, b → true => a and b → true.\n",
    "\n",
    "\n",
    "or\t            If one of the expressions is true, then the condition will be true. If a and b are \n",
    "                the two expressions, a → true, b → false => a or b → true.\n",
    "\n",
    "not\t            If an expression a is true, then not (a) will be false and vice versa."
   ]
  },
  {
   "cell_type": "raw",
   "metadata": {},
   "source": [
    "Operator\t        Description\t                                                  Syntax\n",
    "\n",
    "and\t              Logical AND: True if both the operands are true\t              x and y\n",
    "\n",
    "\n",
    "or\t              Logical OR: True if either of the operands is true \t          x or y\n",
    "\n",
    "not\t              Logical NOT: True if the operand is false \t                  not x"
   ]
  },
  {
   "cell_type": "raw",
   "metadata": {},
   "source": [
    "1  1    =  1\n",
    "\n",
    "1  0    =   1\n",
    "\n",
    "0   1   = 1\n",
    "\n",
    "0   0   = 0\n",
    "\n"
   ]
  },
  {
   "cell_type": "code",
   "execution_count": 2,
   "metadata": {},
   "outputs": [
    {
     "data": {
      "text/plain": [
       "0"
      ]
     },
     "execution_count": 2,
     "metadata": {},
     "output_type": "execute_result"
    }
   ],
   "source": [
    "1 and 0"
   ]
  },
  {
   "cell_type": "markdown",
   "metadata": {},
   "source": [
    "# Example: Logical Operators in Python"
   ]
  },
  {
   "cell_type": "code",
   "execution_count": 3,
   "metadata": {},
   "outputs": [],
   "source": [
    "a= 10 \n",
    "b=15"
   ]
  },
  {
   "cell_type": "code",
   "execution_count": 8,
   "metadata": {},
   "outputs": [
    {
     "data": {
      "text/plain": [
       "True"
      ]
     },
     "execution_count": 8,
     "metadata": {},
     "output_type": "execute_result"
    }
   ],
   "source": [
    "(a>b)  or (b>a)\n",
    "\n"
   ]
  },
  {
   "cell_type": "code",
   "execution_count": null,
   "metadata": {},
   "outputs": [],
   "source": []
  },
  {
   "cell_type": "code",
   "execution_count": 9,
   "metadata": {},
   "outputs": [
    {
     "name": "stdout",
     "output_type": "stream",
     "text": [
      "False\n",
      "True\n",
      "False\n"
     ]
    }
   ],
   "source": [
    "# Examples of Logical Operator\n",
    "a = True\n",
    "b = False\n",
    "\n",
    "# Print a and b is False\n",
    "print(a and b)\n",
    "\n",
    "# Print a or b is True\n",
    "print(a or b)\n",
    "\n",
    "# Print not a is False\n",
    "print(not a)\n"
   ]
  },
  {
   "cell_type": "code",
   "execution_count": null,
   "metadata": {},
   "outputs": [],
   "source": []
  },
  {
   "cell_type": "code",
   "execution_count": null,
   "metadata": {},
   "outputs": [],
   "source": []
  }
 ],
 "metadata": {
  "kernelspec": {
   "display_name": "Python 3",
   "language": "python",
   "name": "python3"
  },
  "language_info": {
   "codemirror_mode": {
    "name": "ipython",
    "version": 3
   },
   "file_extension": ".py",
   "mimetype": "text/x-python",
   "name": "python",
   "nbconvert_exporter": "python",
   "pygments_lexer": "ipython3",
   "version": "3.8.5"
  }
 },
 "nbformat": 4,
 "nbformat_minor": 4
}
