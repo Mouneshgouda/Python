{
 "cells": [
  {
   "cell_type": "markdown",
   "metadata": {},
   "source": [
    "# Python Data Types"
   ]
  },
  {
   "cell_type": "raw",
   "metadata": {},
   "source": [
    "1. Data types are the classification or categorization of data items. \n",
    "\n",
    "2. It represents the kind of value that tells what operations can be performed on a particular data. \n",
    "\n",
    "3. Since everything is an object in Python programming, data types are actually classes and variables are instance (object) of these classes."
   ]
  },
  {
   "cell_type": "raw",
   "metadata": {},
   "source": [
    "Variables can hold values, and every value has a data-type. \n",
    "\n",
    "Python is a dynamically typed language; hence we do not need to define the type of the variable while declaring it. \n",
    "\n",
    "The interpreter implicitly binds the value with its type.\n",
    "\n",
    "a = 5  \n",
    "\n",
    "The variable a holds integer value five and we did not define its type. Python interpreter will automatically interpret variables a as an integer type.\n",
    "\n",
    "Python enables us to check the type of the variable used in the program. Python provides us the type() function, which returns the type of the variable passed.\n",
    "\n"
   ]
  },
  {
   "cell_type": "raw",
   "metadata": {},
   "source": [
    "Consider the following example to define the values of different data types and checking its type."
   ]
  },
  {
   "cell_type": "code",
   "execution_count": 1,
   "metadata": {},
   "outputs": [
    {
     "name": "stdout",
     "output_type": "stream",
     "text": [
      "<class 'int'>\n",
      "<class 'str'>\n",
      "<class 'float'>\n"
     ]
    }
   ],
   "source": [
    "\n",
    "a=10  \n",
    "b=\"Hi Python\"  \n",
    "c = 10.5  \n",
    "print(type(a))  \n",
    "print(type(b))  \n",
    "print(type(c)) "
   ]
  },
  {
   "cell_type": "markdown",
   "metadata": {},
   "source": [
    "# Standard data types"
   ]
  },
  {
   "cell_type": "raw",
   "metadata": {},
   "source": [
    "A variable can hold different types of values. For example, a person's name must be stored as a string whereas its id must be stored as an integer.\n",
    "\n",
    "Python provides various standard data types that define the storage method on each of them. The data types defined in Python are given below.\n",
    "\n",
    "1. Numbers (int/Flaot/Complex)\n",
    "\n",
    "2. Sequence Type (String/List/Tuple)\n",
    "\n",
    "3. Boolean\n",
    "\n",
    "4. Set\n",
    "\n",
    "5. Dictionary\n"
   ]
  },
  {
   "cell_type": "markdown",
   "metadata": {},
   "source": [
    "![](1.png)\n"
   ]
  },
  {
   "cell_type": "markdown",
   "metadata": {},
   "source": [
    "# Dictionaries"
   ]
  },
  {
   "cell_type": "markdown",
   "metadata": {},
   "source": [
    "# What are Dictionaries?"
   ]
  },
  {
   "cell_type": "raw",
   "metadata": {},
   "source": [
    "A dictionary consists of keys and values. It is helpful to compare a dictionary to a list. Instead of the numerical indexes such as a list, dictionaries have keys. These keys are the keys that are used to access values within a dictionary.\n"
   ]
  },
  {
   "cell_type": "markdown",
   "metadata": {},
   "source": [
    "\n",
    "<img src=\"https://s3-api.us-geo.objectstorage.softlayer.net/cf-courses-data/CognitiveClass/PY0101EN/Chapter%202/Images/DictsList.png\" width=\"650\" />\n",
    "\n"
   ]
  },
  {
   "cell_type": "markdown",
   "metadata": {},
   "source": [
    "# Creating a Dictionary\n",
    "\n",
    " "
   ]
  },
  {
   "cell_type": "raw",
   "metadata": {},
   "source": [
    "1. In Python, a Dictionary can be created by placing a sequence of elements within curly {} braces, separated by ‘comma’.\n",
    "\n",
    "2. Dictionary holds pairs of values, one being the Key and the other corresponding pair element being its Key:value. \n",
    "\n",
    "3. Values in a dictionary can be of any data type and can be duplicated, whereas keys can’t be repeated and must be immutable. "
   ]
  },
  {
   "cell_type": "raw",
   "metadata": {},
   "source": [
    "Python Dictionary is used to store the data in a key-value pair format. The dictionary is the data type in Python, which can simulate the real-life data arrangement where some specific value exists for some particular key. It is the mutable data-structure. The dictionary is defined into element Keys and values.\n",
    "\n",
    "1. Keys must be a single element\n",
    "\n",
    "2. Value can be any type such as list, tuple, integer, etc.\n",
    "\n",
    "In other words, we can say that a dictionary is the collection of key-value pairs where the value can be any Python object. In contrast, the keys are the immutable Python object, i.e., Numbers, string, or tuple"
   ]
  },
  {
   "cell_type": "raw",
   "metadata": {},
   "source": [
    "An example of a Dictionary Dict:"
   ]
  },
  {
   "cell_type": "code",
   "execution_count": 4,
   "metadata": {},
   "outputs": [
    {
     "name": "stdout",
     "output_type": "stream",
     "text": [
      "Empty Dictionary: \n",
      "{}\n"
     ]
    }
   ],
   "source": [
    "# Creating an empty Dictionary \n",
    "Dict = {} \n",
    "print(\"Empty Dictionary: \") \n",
    "print(Dict) \n",
    "  \n"
   ]
  },
  {
   "cell_type": "code",
   "execution_count": 7,
   "metadata": {},
   "outputs": [
    {
     "data": {
      "text/plain": [
       "{1: 3, 2: 'd', 'a': 34}"
      ]
     },
     "execution_count": 7,
     "metadata": {},
     "output_type": "execute_result"
    }
   ],
   "source": [
    "a={1:3,2:'d','a':34}\n",
    "a"
   ]
  },
  {
   "cell_type": "code",
   "execution_count": 5,
   "metadata": {},
   "outputs": [
    {
     "name": "stdout",
     "output_type": "stream",
     "text": [
      "\n",
      "Dictionary with the use of dict(): \n",
      "{1: 'India', 2: 'For', 3: 'India'}\n"
     ]
    }
   ],
   "source": [
    "# Creating a Dictionary \n",
    "# with dict() method \n",
    "Dict = dict({1: 'India', 2: 'For', 3:'India'}) \n",
    "print(\"\\nDictionary with the use of dict(): \") \n",
    "print(Dict) "
   ]
  },
  {
   "cell_type": "code",
   "execution_count": 6,
   "metadata": {},
   "outputs": [
    {
     "name": "stdout",
     "output_type": "stream",
     "text": [
      "\n",
      "Dictionary with each item as a pair: \n",
      "{1: 'India', 2: 'For'}\n"
     ]
    }
   ],
   "source": [
    "\n",
    "  \n",
    "# Creating a Dictionary \n",
    "# with each item as a Pair \n",
    "Dict = dict([(1, 'India'), (2, 'For')]) \n",
    "print(\"\\nDictionary with each item as a pair: \") \n",
    "print(Dict)"
   ]
  },
  {
   "cell_type": "markdown",
   "metadata": {},
   "source": [
    "# key:Value"
   ]
  },
  {
   "cell_type": "code",
   "execution_count": 3,
   "metadata": {},
   "outputs": [
    {
     "data": {
      "text/plain": [
       "{'key2': '2',\n",
       " 'key3': [3, 3, 3],\n",
       " 'key1': 1,\n",
       " 'keyi:4': (4, 4, 4),\n",
       " 'key5': 5,\n",
       " (0, 1): 6}"
      ]
     },
     "execution_count": 3,
     "metadata": {},
     "output_type": "execute_result"
    }
   ],
   "source": [
    "\n",
    "# Create the dictionary An example of a Dictionary\n",
    "\n",
    "Dict = { \"key2\": \"2\", \"key3\": [3, 3, 3],\"key1\": 1, \"keyi:4\": (4, 4, 4), ('key5'): 5, (0, 1): 6}\n",
    "Dict"
   ]
  },
  {
   "cell_type": "code",
   "execution_count": 9,
   "metadata": {},
   "outputs": [
    {
     "name": "stdout",
     "output_type": "stream",
     "text": [
      "{1: 'India', 2: 'For', 3: {'A': 'Welcome', 'B': 'To', 'C': 'India'}}\n"
     ]
    }
   ],
   "source": [
    "# Creating a Nested Dictionary  \n",
    "# as shown in the below image \n",
    "Dict = {1: 'India', 2: 'For',  \n",
    "        3:{'A' : 'Welcome', 'B' : 'To', 'C' : 'India'}} \n",
    "  \n",
    "print(Dict)"
   ]
  },
  {
   "cell_type": "markdown",
   "metadata": {},
   "source": [
    "# Dictionary items are ordered, changeable, and does not allow duplicates.\n",
    "\n",
    "Dictionary items are presented in key:value pairs, and can be referred to by using the key name."
   ]
  },
  {
   "cell_type": "code",
   "execution_count": 58,
   "metadata": {},
   "outputs": [
    {
     "name": "stdout",
     "output_type": "stream",
     "text": [
      "Ford\n"
     ]
    }
   ],
   "source": [
    "thisdict = {\n",
    "  \"brand\": \"Ford\",\n",
    "  \"model\": \"Mustang\",\n",
    "  \"year\": 1964\n",
    "}\n",
    "print(thisdict[\"brand\"])\n"
   ]
  },
  {
   "cell_type": "markdown",
   "metadata": {},
   "source": [
    "# Changeable\n",
    "Dictionaries are changeable, meaning that we can change, add or remove items after the dictionary has been created."
   ]
  },
  {
   "cell_type": "code",
   "execution_count": 61,
   "metadata": {},
   "outputs": [
    {
     "data": {
      "text/plain": [
       "{1: 2, 2: 3, 4: 5, 'a': 6}"
      ]
     },
     "execution_count": 61,
     "metadata": {},
     "output_type": "execute_result"
    }
   ],
   "source": [
    "a={1:2,2:3,4:5,'a':6}\n",
    "a"
   ]
  },
  {
   "cell_type": "code",
   "execution_count": 62,
   "metadata": {},
   "outputs": [],
   "source": [
    "a['a']=9"
   ]
  },
  {
   "cell_type": "code",
   "execution_count": 63,
   "metadata": {},
   "outputs": [
    {
     "data": {
      "text/plain": [
       "{1: 2, 2: 3, 4: 5, 'a': 9}"
      ]
     },
     "execution_count": 63,
     "metadata": {},
     "output_type": "execute_result"
    }
   ],
   "source": [
    "a"
   ]
  },
  {
   "cell_type": "markdown",
   "metadata": {},
   "source": [
    "# Duplicates Not Allowed\n",
    "Dictionaries cannot have two items with the same key:"
   ]
  },
  {
   "cell_type": "code",
   "execution_count": 59,
   "metadata": {},
   "outputs": [
    {
     "name": "stdout",
     "output_type": "stream",
     "text": [
      "{'brand': 'Ford', 'model': 'Mustang', 'year': 2020}\n"
     ]
    }
   ],
   "source": [
    "#Duplicate values will overwrite existing values:\n",
    "\n",
    "thisdict = {\n",
    "  \"brand\": \"Ford\",\n",
    "  \"model\": \"Mustang\",\n",
    "  \"year\": 1964,\n",
    "  \"year\": 2020\n",
    "}\n",
    "print(thisdict)"
   ]
  },
  {
   "cell_type": "markdown",
   "metadata": {},
   "source": [
    "# Dictionary Length\n",
    "To determine how many items a dictionary has, use the len() function:"
   ]
  },
  {
   "cell_type": "code",
   "execution_count": 60,
   "metadata": {},
   "outputs": [
    {
     "name": "stdout",
     "output_type": "stream",
     "text": [
      "3\n"
     ]
    }
   ],
   "source": [
    "thisdict = {\n",
    "  \"brand\": \"Ford\",\n",
    "  \"model\": \"Mustang\",\n",
    "  \"year\": 1964\n",
    "}\n",
    "print(len(thisdict))"
   ]
  },
  {
   "cell_type": "markdown",
   "metadata": {},
   "source": [
    "# Adding Element in Dictionary\n"
   ]
  },
  {
   "cell_type": "code",
   "execution_count": 10,
   "metadata": {},
   "outputs": [
    {
     "name": "stdout",
     "output_type": "stream",
     "text": [
      "Empty Dictionary: \n",
      "{}\n",
      "\n",
      "Dictionary after adding 3 elements: \n",
      "{0: 'India', 2: 'For', 3: 1, 'a': 6, 'arpit': 'yadav'}\n"
     ]
    }
   ],
   "source": [
    "# Creating an empty Dictionary \n",
    "Dict = {} \n",
    "print(\"Empty Dictionary: \") \n",
    "print(Dict) \n",
    "  \n",
    "# Adding elements one at a time \n",
    "Dict[0] = 'India'\n",
    "Dict[2] = 'For'\n",
    "Dict[3] = 1\n",
    "Dict['a']=6\n",
    "Dict['arpit']='yadav'\n",
    "print(\"\\nDictionary after adding 3 elements: \") \n",
    "print(Dict)\n"
   ]
  },
  {
   "cell_type": "code",
   "execution_count": 11,
   "metadata": {},
   "outputs": [],
   "source": [
    "Dict[3]=10"
   ]
  },
  {
   "cell_type": "markdown",
   "metadata": {},
   "source": [
    "# Dictionary is Mutable"
   ]
  },
  {
   "cell_type": "code",
   "execution_count": 12,
   "metadata": {},
   "outputs": [
    {
     "name": "stdout",
     "output_type": "stream",
     "text": [
      "\n",
      "Dictionary after adding 3 elements: \n",
      "{0: 'India', 2: 'For', 3: 10, 'a': 6, 'arpit': 'yadav', 'Value_set': (2, 3, 4)}\n"
     ]
    }
   ],
   "source": [
    "# Adding set of values  \n",
    "# to a single Key \n",
    "Dict['Value_set'] = 2, 3, 4\n",
    "print(\"\\nDictionary after adding 3 elements: \") \n",
    "print(Dict)"
   ]
  },
  {
   "cell_type": "code",
   "execution_count": 13,
   "metadata": {},
   "outputs": [
    {
     "data": {
      "text/plain": [
       "'For'"
      ]
     },
     "execution_count": 13,
     "metadata": {},
     "output_type": "execute_result"
    }
   ],
   "source": [
    "Dict[2]\n"
   ]
  },
  {
   "cell_type": "code",
   "execution_count": 14,
   "metadata": {},
   "outputs": [
    {
     "name": "stdout",
     "output_type": "stream",
     "text": [
      "\n",
      "Updated key value: \n",
      "{0: 'India', 2: 'Welcome', 3: 10, 'a': 6, 'arpit': 'yadav', 'Value_set': (2, 3, 4)}\n"
     ]
    }
   ],
   "source": [
    "# Updating existing Key's Value \n",
    "Dict[2] = 'Welcome'\n",
    "print(\"\\nUpdated key value: \") \n",
    "print(Dict) "
   ]
  },
  {
   "cell_type": "code",
   "execution_count": 16,
   "metadata": {},
   "outputs": [
    {
     "name": "stdout",
     "output_type": "stream",
     "text": [
      "\n",
      "Adding a Nested Key: \n",
      "{0: 'India', 2: 'Welcome', 3: 10, 'a': 6, 'arpit': 'yadav', 'Value_set': (2, 3, 4), 5: {'Nested': {'1': 'Life', '2': 'India'}}}\n"
     ]
    }
   ],
   "source": [
    "# Adding Nested Key value to Dictionary \n",
    "Dict[5] = {'Nested' :{'1' : 'Life', '2' : 'India'}} \n",
    "print(\"\\nAdding a Nested Key: \") \n",
    "print(Dict)"
   ]
  },
  {
   "cell_type": "markdown",
   "metadata": {},
   "source": [
    "# Accessing the dictionary values\n"
   ]
  },
  {
   "cell_type": "raw",
   "metadata": {},
   "source": [
    "We have discussed how the data can be accessed in the list and tuple by using the indexing.\n",
    "\n",
    "However, the values can be accessed in the dictionary by using the keys as keys are unique in the dictionary.\n",
    "\n",
    "The dictionary values can be accessed in the following way."
   ]
  },
  {
   "cell_type": "code",
   "execution_count": 64,
   "metadata": {},
   "outputs": [
    {
     "name": "stdout",
     "output_type": "stream",
     "text": [
      "<class 'dict'>\n",
      "printing Employee data .... \n",
      "Name : John\n",
      "Age : 29\n",
      "Salary : 25000\n",
      "Company : GOOGLE\n"
     ]
    }
   ],
   "source": [
    "Employee = {\"Name\": \"John\", \"Age\": 29, \"salary\":25000,\"Company\":\"GOOGLE\"}  \n",
    "print(type(Employee))  \n",
    "print(\"printing Employee data .... \")  \n",
    "print(\"Name : %s\" %Employee[\"Name\"])  \n",
    "print(\"Age : %d\" %Employee[\"Age\"])  \n",
    "print(\"Salary : %d\" %Employee[\"salary\"])  \n",
    "print(\"Company : %s\" %Employee[\"Company\"])  "
   ]
  },
  {
   "cell_type": "markdown",
   "metadata": {},
   "source": [
    "# Accessing element in dictionary"
   ]
  },
  {
   "cell_type": "code",
   "execution_count": 17,
   "metadata": {},
   "outputs": [
    {
     "name": "stdout",
     "output_type": "stream",
     "text": [
      "{'Jay': 14, 'Raj': 20, 'Maya': 15}\n"
     ]
    }
   ],
   "source": [
    "# create and print dictionary\n",
    "stud = { 'Jay': 14,\n",
    " 'Raj': 20,\n",
    " 'Maya': 15 }\n",
    "print(stud)"
   ]
  },
  {
   "cell_type": "code",
   "execution_count": 18,
   "metadata": {},
   "outputs": [
    {
     "data": {
      "text/plain": [
       "20"
      ]
     },
     "execution_count": 18,
     "metadata": {},
     "output_type": "execute_result"
    }
   ],
   "source": [
    "# get the age of Raj\n",
    "x = stud[\"Raj\"]\n",
    "x"
   ]
  },
  {
   "cell_type": "markdown",
   "metadata": {},
   "source": [
    "# We can also use get() method to access the elements"
   ]
  },
  {
   "cell_type": "code",
   "execution_count": 19,
   "metadata": {},
   "outputs": [
    {
     "name": "stdout",
     "output_type": "stream",
     "text": [
      "20\n",
      "20\n"
     ]
    }
   ],
   "source": [
    "# create and print dictionary\n",
    "stud = { 'Jay': 14,\n",
    " 'Raj': 20,\n",
    " 'Maya': 15 }\n",
    "y= stud['Raj']\n",
    "x = stud.get(\"Raj\")\n",
    "print(x)\n",
    "print(y)"
   ]
  },
  {
   "cell_type": "code",
   "execution_count": 22,
   "metadata": {},
   "outputs": [
    {
     "name": "stdout",
     "output_type": "stream",
     "text": [
      "Accessing a element using get:\n",
      "India\n"
     ]
    }
   ],
   "source": [
    "# Creating a Dictionary  \n",
    "Dict = {1: 'India', 'name': 'For', 3: 'India'} \n",
    "  \n",
    "# accessing a element using get() \n",
    "# method \n",
    "print(\"Accessing a element using get:\") \n",
    "print(Dict.get(3))"
   ]
  },
  {
   "cell_type": "code",
   "execution_count": 23,
   "metadata": {},
   "outputs": [
    {
     "name": "stdout",
     "output_type": "stream",
     "text": [
      "Accessing a element using key:\n",
      "For\n",
      "Accessing a element using key:\n",
      "India\n"
     ]
    }
   ],
   "source": [
    "# Python program to demonstrate   \n",
    "# accessing a element from a Dictionary  \n",
    "  \n",
    "# Creating a Dictionary  \n",
    "Dict = {1: 'India', 'name': 'For', 3: 'India'} \n",
    "  \n",
    "# accessing a element using key \n",
    "print(\"Accessing a element using key:\") \n",
    "print(Dict['name']) \n",
    "  \n",
    "# accessing a element using key \n",
    "print(\"Accessing a element using key:\") \n",
    "print(Dict[1]) "
   ]
  },
  {
   "cell_type": "markdown",
   "metadata": {},
   "source": [
    "# Change the value"
   ]
  },
  {
   "cell_type": "code",
   "execution_count": 24,
   "metadata": {},
   "outputs": [
    {
     "name": "stdout",
     "output_type": "stream",
     "text": [
      "{'Jay': 14, 'Raj': 20, 'Maya': 15}\n",
      "{'Jay': 18, 'Raj': 20, 'Maya': 15}\n"
     ]
    }
   ],
   "source": [
    "# change the value\n",
    "# create and print dictionary\n",
    "stud = { 'Jay': 14,\n",
    " 'Raj': 20,\n",
    " 'Maya': 15 }\n",
    "print(stud)\n",
    "stud[\"Jay\"] = 18\n",
    "print(stud)"
   ]
  },
  {
   "cell_type": "markdown",
   "metadata": {},
   "source": [
    "# Adding dictionary values"
   ]
  },
  {
   "cell_type": "markdown",
   "metadata": {},
   "source": [
    "# Add Elements"
   ]
  },
  {
   "cell_type": "raw",
   "metadata": {},
   "source": [
    "The dictionary is a mutable data type, and its values can be updated by using the specific keys. The value can be updated along with key Dict[key] = value. The update() method is also used to update an existing value.\n",
    "\n",
    "Note: If the key-value already present in the dictionary, the value gets updated. Otherwise, the new keys added in the dictionary.\n",
    "\n",
    "Let's see an example to update the dictionary values."
   ]
  },
  {
   "cell_type": "code",
   "execution_count": 65,
   "metadata": {},
   "outputs": [
    {
     "name": "stdout",
     "output_type": "stream",
     "text": [
      "Empty Dictionary: \n",
      "{}\n",
      "\n",
      "Dictionary after adding 3 elements: \n",
      "{0: 'Peter', 2: 'Joseph', 3: 'Ricky'}\n",
      "\n",
      "Dictionary after adding 3 elements: \n",
      "{0: 'Peter', 2: 'Joseph', 3: 'Ricky', 'Emp_ages': (20, 33, 24)}\n",
      "\n",
      "Updated key value: \n",
      "{0: 'Peter', 2: 'Joseph', 3: 'India', 'Emp_ages': (20, 33, 24)}\n"
     ]
    }
   ],
   "source": [
    "# Creating an empty Dictionary   \n",
    "Dict = {}   \n",
    "print(\"Empty Dictionary: \")   \n",
    "print(Dict)   \n",
    "    \n",
    "# Adding elements to dictionary one at a time   \n",
    "Dict[0] = 'Peter'  \n",
    "Dict[2] = 'Joseph'  \n",
    "Dict[3] = 'Ricky'  \n",
    "print(\"\\nDictionary after adding 3 elements: \")   \n",
    "print(Dict)   \n",
    "    \n",
    "# Adding set of values    \n",
    "# with a single Key   \n",
    "# The Emp_ages doesn't exist to dictionary  \n",
    "Dict['Emp_ages'] = 20, 33, 24  \n",
    "print(\"\\nDictionary after adding 3 elements: \")   \n",
    "print(Dict)   \n",
    "    \n",
    "# Updating existing Key's Value   \n",
    "Dict[3] = 'India'  \n",
    "print(\"\\nUpdated key value: \")   \n",
    "print(Dict)    "
   ]
  },
  {
   "cell_type": "markdown",
   "metadata": {},
   "source": [
    "# Deleting elements using del keyword"
   ]
  },
  {
   "cell_type": "code",
   "execution_count": 66,
   "metadata": {},
   "outputs": [
    {
     "name": "stdout",
     "output_type": "stream",
     "text": [
      "<class 'dict'>\n",
      "printing Employee data .... \n",
      "{'Name': 'John', 'Age': 29, 'salary': 25000, 'Company': 'GOOGLE'}\n",
      "Deleting some of the employee data\n",
      "printing the modified information \n",
      "{'Age': 29, 'salary': 25000}\n",
      "Deleting the dictionary: Employee\n",
      "Lets try to print it again \n"
     ]
    },
    {
     "ename": "NameError",
     "evalue": "name 'Employee' is not defined",
     "output_type": "error",
     "traceback": [
      "\u001b[1;31m---------------------------------------------------------------------------\u001b[0m",
      "\u001b[1;31mNameError\u001b[0m                                 Traceback (most recent call last)",
      "\u001b[1;32m<ipython-input-66-acd86df15fc4>\u001b[0m in \u001b[0;36m<module>\u001b[1;34m\u001b[0m\n\u001b[0;32m     11\u001b[0m \u001b[1;32mdel\u001b[0m \u001b[0mEmployee\u001b[0m\u001b[1;33m\u001b[0m\u001b[1;33m\u001b[0m\u001b[0m\n\u001b[0;32m     12\u001b[0m \u001b[0mprint\u001b[0m\u001b[1;33m(\u001b[0m\u001b[1;34m\"Lets try to print it again \"\u001b[0m\u001b[1;33m)\u001b[0m\u001b[1;33m;\u001b[0m\u001b[1;33m\u001b[0m\u001b[1;33m\u001b[0m\u001b[0m\n\u001b[1;32m---> 13\u001b[1;33m \u001b[0mprint\u001b[0m\u001b[1;33m(\u001b[0m\u001b[0mEmployee\u001b[0m\u001b[1;33m)\u001b[0m\u001b[1;33m\u001b[0m\u001b[1;33m\u001b[0m\u001b[0m\n\u001b[0m",
      "\u001b[1;31mNameError\u001b[0m: name 'Employee' is not defined"
     ]
    }
   ],
   "source": [
    "Employee = {\"Name\": \"John\", \"Age\": 29, \"salary\":25000,\"Company\":\"GOOGLE\"}    \n",
    "print(type(Employee))    \n",
    "print(\"printing Employee data .... \")    \n",
    "print(Employee)    \n",
    "print(\"Deleting some of the employee data\")     \n",
    "del Employee[\"Name\"]    \n",
    "del Employee[\"Company\"]    \n",
    "print(\"printing the modified information \")    \n",
    "print(Employee)    \n",
    "print(\"Deleting the dictionary: Employee\");    \n",
    "del Employee    \n",
    "print(\"Lets try to print it again \");    \n",
    "print(Employee)   "
   ]
  },
  {
   "cell_type": "markdown",
   "metadata": {},
   "source": [
    "# Using pop() method\n",
    "The pop() method accepts the key as an argument and remove the associated value. Consider the following example."
   ]
  },
  {
   "cell_type": "code",
   "execution_count": 67,
   "metadata": {},
   "outputs": [
    {
     "name": "stdout",
     "output_type": "stream",
     "text": [
      "{1: 'JavaTpoint', 2: 'Peter'}\n"
     ]
    }
   ],
   "source": [
    "# Creating a Dictionary   \n",
    "Dict = {1: 'JavaTpoint', 2: 'Peter', 3: 'Thomas'}   \n",
    "# Deleting a key    \n",
    "# using pop() method   \n",
    "pop_ele = Dict.pop(3)   \n",
    "print(Dict) "
   ]
  },
  {
   "cell_type": "code",
   "execution_count": 25,
   "metadata": {},
   "outputs": [
    {
     "name": "stdout",
     "output_type": "stream",
     "text": [
      "{'Jay': 14, 'Raj': 20, 'Maya': 15}\n",
      "{'Jay': 14, 'Raj': 20, 'Maya': 15, 'Kiran': 19}\n"
     ]
    }
   ],
   "source": [
    "# add new element\n",
    "# change the value\n",
    "# create and print dictionary\n",
    "stud = { 'Jay': 14,\n",
    " 'Raj': 20,\n",
    " 'Maya': 15 }\n",
    "print(stud)\n",
    "stud['Kiran'] = 19\n",
    "print(stud)\n"
   ]
  },
  {
   "cell_type": "markdown",
   "metadata": {},
   "source": [
    "# clear() method¶"
   ]
  },
  {
   "cell_type": "code",
   "execution_count": 26,
   "metadata": {},
   "outputs": [
    {
     "data": {
      "text/plain": [
       "{}"
      ]
     },
     "execution_count": 26,
     "metadata": {},
     "output_type": "execute_result"
    }
   ],
   "source": [
    "# remove all the elements from stud\n",
    "# change the value\n",
    "# create and print dictionary\n",
    "stud = { 'Jay': 14,\n",
    " 'Raj': 20,\n",
    " 'Maya': 15 }\n",
    "stud.clear()\n",
    "stud"
   ]
  },
  {
   "cell_type": "markdown",
   "metadata": {},
   "source": [
    "# copy() method\n"
   ]
  },
  {
   "cell_type": "code",
   "execution_count": 27,
   "metadata": {},
   "outputs": [
    {
     "data": {
      "text/plain": [
       "{'101': 'John', '102': 'Olivia', '103': 'Sophia'}"
      ]
     },
     "execution_count": 27,
     "metadata": {},
     "output_type": "execute_result"
    }
   ],
   "source": [
    "# create a dictionary\n",
    "emp = {'101': 'John',\n",
    " '102': 'Olivia',\n",
    " '103': 'Sophia'\n",
    " }\n",
    "emp"
   ]
  },
  {
   "cell_type": "code",
   "execution_count": 28,
   "metadata": {},
   "outputs": [
    {
     "data": {
      "text/plain": [
       "{'101': 'John', '102': 'Olivia', '103': 'Sophia'}"
      ]
     },
     "execution_count": 28,
     "metadata": {},
     "output_type": "execute_result"
    }
   ],
   "source": [
    "# create a copy of dictionary\n",
    "emp_copy = emp.copy()\n",
    "emp_copy"
   ]
  },
  {
   "cell_type": "markdown",
   "metadata": {},
   "source": [
    "# fromkeys() method\n"
   ]
  },
  {
   "cell_type": "raw",
   "metadata": {},
   "source": [
    "It returns a dictionary with the specified keys and the specified value\n"
   ]
  },
  {
   "cell_type": "code",
   "execution_count": 29,
   "metadata": {},
   "outputs": [
    {
     "name": "stdout",
     "output_type": "stream",
     "text": [
      "{'John': 1300, 'Olivia': 1300, 'Sophia': 1300}\n"
     ]
    }
   ],
   "source": [
    "# create a tuple\n",
    "x = ('John', 'Olivia', 'Sophia')\n",
    "# create a numeric variable\n",
    "y = 1300\n",
    "fees = dict.fromkeys(x, y)\n",
    "print(fees)"
   ]
  },
  {
   "cell_type": "markdown",
   "metadata": {},
   "source": [
    "# items() method\n"
   ]
  },
  {
   "cell_type": "code",
   "execution_count": 30,
   "metadata": {},
   "outputs": [
    {
     "data": {
      "text/plain": [
       "dict_items([('John', 1300), ('Olivia', 1300), ('Sophia', 1300)])"
      ]
     },
     "execution_count": 30,
     "metadata": {},
     "output_type": "execute_result"
    }
   ],
   "source": [
    "fees.items()"
   ]
  },
  {
   "cell_type": "markdown",
   "metadata": {},
   "source": [
    "# keys() method"
   ]
  },
  {
   "cell_type": "code",
   "execution_count": 31,
   "metadata": {},
   "outputs": [
    {
     "data": {
      "text/plain": [
       "dict_keys(['John', 'Olivia', 'Sophia'])"
      ]
     },
     "execution_count": 31,
     "metadata": {},
     "output_type": "execute_result"
    }
   ],
   "source": [
    "fees.keys()"
   ]
  },
  {
   "cell_type": "code",
   "execution_count": 32,
   "metadata": {},
   "outputs": [
    {
     "data": {
      "text/plain": [
       "{'John': 1300, 'Olivia': 1300, 'Sophia': 1300}"
      ]
     },
     "execution_count": 32,
     "metadata": {},
     "output_type": "execute_result"
    }
   ],
   "source": [
    "fees\n",
    "\n",
    "\n",
    "\n"
   ]
  },
  {
   "cell_type": "code",
   "execution_count": 33,
   "metadata": {},
   "outputs": [
    {
     "data": {
      "text/plain": [
       "dict_values([1300, 1300, 1300])"
      ]
     },
     "execution_count": 33,
     "metadata": {},
     "output_type": "execute_result"
    }
   ],
   "source": [
    "fees.values()"
   ]
  },
  {
   "cell_type": "markdown",
   "metadata": {},
   "source": [
    "# pop() method"
   ]
  },
  {
   "cell_type": "code",
   "execution_count": 35,
   "metadata": {},
   "outputs": [
    {
     "data": {
      "text/plain": [
       "1300"
      ]
     },
     "execution_count": 35,
     "metadata": {},
     "output_type": "execute_result"
    }
   ],
   "source": [
    "# remove element from the dictionary\n",
    "fees.pop('John')\n"
   ]
  },
  {
   "cell_type": "code",
   "execution_count": 36,
   "metadata": {},
   "outputs": [
    {
     "data": {
      "text/plain": [
       "{'Olivia': 1300, 'Sophia': 1300}"
      ]
     },
     "execution_count": 36,
     "metadata": {},
     "output_type": "execute_result"
    }
   ],
   "source": [
    "fees\n"
   ]
  },
  {
   "cell_type": "markdown",
   "metadata": {},
   "source": [
    "# popitem() method¶"
   ]
  },
  {
   "cell_type": "code",
   "execution_count": 37,
   "metadata": {},
   "outputs": [
    {
     "data": {
      "text/plain": [
       "('Sophia', 1300)"
      ]
     },
     "execution_count": 37,
     "metadata": {},
     "output_type": "execute_result"
    }
   ],
   "source": [
    "# remove last inserted key-value pair\n",
    "fees.popitem()"
   ]
  },
  {
   "cell_type": "code",
   "execution_count": 38,
   "metadata": {},
   "outputs": [
    {
     "data": {
      "text/plain": [
       "{'Olivia': 1300}"
      ]
     },
     "execution_count": 38,
     "metadata": {},
     "output_type": "execute_result"
    }
   ],
   "source": [
    "fees"
   ]
  },
  {
   "cell_type": "markdown",
   "metadata": {},
   "source": [
    "# update() method"
   ]
  },
  {
   "cell_type": "code",
   "execution_count": 39,
   "metadata": {},
   "outputs": [
    {
     "name": "stdout",
     "output_type": "stream",
     "text": [
      "{'101': 'John', '102': 'Olivia', '103': 'Sophia', 104: 'Sara'}\n"
     ]
    }
   ],
   "source": [
    "# create a dictionary\n",
    "emp = {'101': 'John',\n",
    " '102': 'Olivia',\n",
    " '103': 'Sophia'\n",
    " }\n",
    "emp\n",
    "# insert element\n",
    "emp.update({104: \"Sara\"})\n",
    "print(emp)\n"
   ]
  },
  {
   "cell_type": "markdown",
   "metadata": {},
   "source": [
    "# values() method"
   ]
  },
  {
   "cell_type": "code",
   "execution_count": 40,
   "metadata": {},
   "outputs": [
    {
     "data": {
      "text/plain": [
       "dict_values(['John', 'Olivia', 'Sophia', 'Sara'])"
      ]
     },
     "execution_count": 40,
     "metadata": {},
     "output_type": "execute_result"
    }
   ],
   "source": [
    "# get the values\n",
    "emp.values()"
   ]
  },
  {
   "cell_type": "markdown",
   "metadata": {},
   "source": [
    "# Accessing element of a nested dictionary"
   ]
  },
  {
   "cell_type": "raw",
   "metadata": {},
   "source": [
    "In order to access the value of any key in nested dictionary, use indexing [] syntax.\n"
   ]
  },
  {
   "cell_type": "code",
   "execution_count": 42,
   "metadata": {},
   "outputs": [
    {
     "name": "stdout",
     "output_type": "stream",
     "text": [
      "{1: 'India'}\n",
      "India\n",
      "For\n"
     ]
    }
   ],
   "source": [
    "# Creating a Dictionary \n",
    "Dict = {'Dict1': {1: 'India'}, \n",
    "        'Dict2': {'Name': 'For'}} \n",
    "  \n",
    "# Accessing element using key \n",
    "print(Dict['Dict1']) \n",
    "print(Dict['Dict1'][1]) \n",
    "print(Dict['Dict2']['Name']) "
   ]
  },
  {
   "cell_type": "markdown",
   "metadata": {},
   "source": [
    "# Removing Elements from Dictionary\n",
    "Removing Elements from Dictionary"
   ]
  },
  {
   "cell_type": "markdown",
   "metadata": {},
   "source": [
    "# Using del keyword\n",
    "In Python Dictionary, deletion of keys can be done by using the del keyword. Using del keyword, specific values from a dictionary as well as whole dictionary can be deleted. Items in a Nested dictionary can also be deleted by using del keyword and providing specific nested key and particular key to be deleted from that nested Dictionary.\n",
    "\n",
    "Note- del Dict will delete the entire dictionary and hence printing it after deletion will raise an Error."
   ]
  },
  {
   "cell_type": "code",
   "execution_count": 44,
   "metadata": {},
   "outputs": [
    {
     "name": "stdout",
     "output_type": "stream",
     "text": [
      "Initial Dictionary: \n",
      "{5: 'Welcome', 6: 'To', 7: 'India', 'A': {1: 'USA', 2: 'UK', 3: 'NZ'}, 'B': {1: 'CAN', 2: 'Life'}}\n",
      "\n",
      "Deleting a specific key: \n",
      "{5: 'Welcome', 7: 'India', 'A': {1: 'USA', 2: 'UK', 3: 'NZ'}, 'B': {1: 'CAN', 2: 'Life'}}\n",
      "\n",
      "Deleting a key from Nested Dictionary: \n",
      "{5: 'Welcome', 7: 'India', 'A': {1: 'USA', 3: 'NZ'}, 'B': {1: 'CAN', 2: 'Life'}}\n"
     ]
    }
   ],
   "source": [
    "# Initial Dictionary \n",
    "Dict = { 5 : 'Welcome', 6 : 'To', 7 : 'India', \n",
    "        'A' : {1 : 'USA', 2 : 'UK', 3 : 'NZ'}, \n",
    "        'B' : {1 : 'CAN', 2 : 'Life'}} \n",
    "print(\"Initial Dictionary: \") \n",
    "print(Dict) \n",
    "  \n",
    "# Deleting a Key value \n",
    "del Dict[6] \n",
    "print(\"\\nDeleting a specific key: \") \n",
    "print(Dict) \n",
    "  \n",
    "# Deleting a Key from \n",
    "# Nested Dictionary \n",
    "del Dict['A'][2] \n",
    "print(\"\\nDeleting a key from Nested Dictionary: \") \n",
    "print(Dict) \n"
   ]
  },
  {
   "cell_type": "markdown",
   "metadata": {},
   "source": [
    "# Using pop() method"
   ]
  },
  {
   "cell_type": "raw",
   "metadata": {},
   "source": [
    "Pop() method is used to return and delete the value of the key specified."
   ]
  },
  {
   "cell_type": "code",
   "execution_count": 46,
   "metadata": {},
   "outputs": [
    {
     "name": "stdout",
     "output_type": "stream",
     "text": [
      "\n",
      "Dictionary after deletion: {'name': 'For', 3: 'UK'}\n",
      "Value associated to poped key is: USA\n"
     ]
    }
   ],
   "source": [
    "# Creating a Dictionary \n",
    "Dict = {1: 'USA', 'name': 'For', 3: 'UK'} \n",
    "  \n",
    "# Deleting a key  \n",
    "# using pop() method \n",
    "pop_ele = Dict.pop(1) \n",
    "print('\\nDictionary after deletion: ' + str(Dict)) \n",
    "print('Value associated to poped key is: ' + str(pop_ele))\n"
   ]
  },
  {
   "cell_type": "markdown",
   "metadata": {},
   "source": [
    "# Using clear() method"
   ]
  },
  {
   "cell_type": "raw",
   "metadata": {},
   "source": [
    "All the items from a dictionary can be deleted at once by using clear() method."
   ]
  },
  {
   "cell_type": "code",
   "execution_count": 47,
   "metadata": {},
   "outputs": [
    {
     "name": "stdout",
     "output_type": "stream",
     "text": [
      "\n",
      "Deleting Entire Dictionary: \n",
      "{}\n"
     ]
    }
   ],
   "source": [
    "# Creating a Dictionary \n",
    "Dict = {1: 'USA', 'name': 'For', 3: 'UK'} \n",
    "  \n",
    "  \n",
    "# Deleting entire Dictionary \n",
    "Dict.clear() \n",
    "print(\"\\nDeleting Entire Dictionary: \") \n",
    "print(Dict) \n"
   ]
  },
  {
   "cell_type": "markdown",
   "metadata": {},
   "source": [
    "# Dictionary of Movie and Year of Release"
   ]
  },
  {
   "cell_type": "raw",
   "metadata": {},
   "source": [
    "Each key is separated from its value by a colon \":\". Commas separate the items, and the whole dictionary is enclosed in curly braces. An empty dictionary without any items is written with just two curly braces, like this \"{}\"."
   ]
  },
  {
   "cell_type": "code",
   "execution_count": 48,
   "metadata": {},
   "outputs": [
    {
     "data": {
      "text/plain": [
       "{'Thriller': '1982',\n",
       " 'Back in Black': '1980',\n",
       " 'The Dark Side of the Moon': '1973',\n",
       " 'The Bodyguard': '1992',\n",
       " 'Bat Out of Hell': '1977',\n",
       " 'Their Greatest Hits (1971-1975)': '1976',\n",
       " 'Saturday Night Fever': '1977',\n",
       " 'Rumours': '1977'}"
      ]
     },
     "execution_count": 48,
     "metadata": {},
     "output_type": "execute_result"
    }
   ],
   "source": [
    "# Create a sample dictionary\n",
    "\n",
    "release_year_dict = {\"Thriller\": \"1982\", \"Back in Black\": \"1980\", \\\n",
    "                    \"The Dark Side of the Moon\": \"1973\", \"The Bodyguard\": \"1992\", \\\n",
    "                    \"Bat Out of Hell\": \"1977\", \"Their Greatest Hits (1971-1975)\": \"1976\", \\\n",
    "                    \"Saturday Night Fever\": \"1977\", \"Rumours\": \"1977\"}\n",
    "release_year_dict\n"
   ]
  },
  {
   "cell_type": "raw",
   "metadata": {},
   "source": [
    "In summary, like a list, a dictionary holds a sequence of elements. Each element is represented by a key and its corresponding value. Dictionaries are created with two curly braces containing keys and values separated by a colon. For every key, there can only be one single value, however, multiple keys can hold the same value. Keys can only be strings, numbers, or tuples, but values can be any data type.\n",
    "\n",
    "It is helpful to visualize the dictionary as a table, as in the following image. The first column represents the keys, the second column represents the values."
   ]
  },
  {
   "cell_type": "markdown",
   "metadata": {},
   "source": [
    "<img src=\"https://s3-api.us-geo.objectstorage.softlayer.net/cf-courses-data/CognitiveClass/PY0101EN/Chapter%202/Images/DictsStructure.png\" width=\"650\" />"
   ]
  },
  {
   "cell_type": "raw",
   "metadata": {},
   "source": [
    "Keys: You can retrieve the values based on the names:"
   ]
  },
  {
   "cell_type": "code",
   "execution_count": 49,
   "metadata": {},
   "outputs": [
    {
     "data": {
      "text/plain": [
       "'1982'"
      ]
     },
     "execution_count": 49,
     "metadata": {},
     "output_type": "execute_result"
    }
   ],
   "source": [
    "# Get value by keys\n",
    "\n",
    "release_year_dict['Thriller'] "
   ]
  },
  {
   "cell_type": "markdown",
   "metadata": {},
   "source": [
    "<img src=\"https://s3-api.us-geo.objectstorage.softlayer.net/cf-courses-data/CognitiveClass/PY0101EN/Chapter%202/Images/DictsKeyOne.png\" width=\"500\" />"
   ]
  },
  {
   "cell_type": "code",
   "execution_count": 50,
   "metadata": {},
   "outputs": [
    {
     "data": {
      "text/plain": [
       "'1992'"
      ]
     },
     "execution_count": 50,
     "metadata": {},
     "output_type": "execute_result"
    }
   ],
   "source": [
    "# Get value by key\n",
    "\n",
    "release_year_dict['The Bodyguard'] "
   ]
  },
  {
   "cell_type": "raw",
   "metadata": {},
   "source": [
    "Now let you retrieve the keys of the dictionary using the method release_year_dict():"
   ]
  },
  {
   "cell_type": "code",
   "execution_count": 52,
   "metadata": {},
   "outputs": [
    {
     "data": {
      "text/plain": [
       "dict_keys(['Thriller', 'Back in Black', 'The Dark Side of the Moon', 'The Bodyguard', 'Bat Out of Hell', 'Their Greatest Hits (1971-1975)', 'Saturday Night Fever', 'Rumours'])"
      ]
     },
     "execution_count": 52,
     "metadata": {},
     "output_type": "execute_result"
    }
   ],
   "source": [
    "# Get all the keys in dictionary\n",
    "\n",
    "release_year_dict.keys() "
   ]
  },
  {
   "cell_type": "raw",
   "metadata": {},
   "source": [
    "You can retrieve the values using the method values():"
   ]
  },
  {
   "cell_type": "code",
   "execution_count": 53,
   "metadata": {},
   "outputs": [
    {
     "data": {
      "text/plain": [
       "dict_values(['1982', '1980', '1973', '1992', '1977', '1976', '1977', '1977'])"
      ]
     },
     "execution_count": 53,
     "metadata": {},
     "output_type": "execute_result"
    }
   ],
   "source": [
    "# Get all the values in dictionary\n",
    "\n",
    "release_year_dict.values() "
   ]
  },
  {
   "cell_type": "raw",
   "metadata": {},
   "source": [
    "We can add an entry:"
   ]
  },
  {
   "cell_type": "code",
   "execution_count": 54,
   "metadata": {},
   "outputs": [
    {
     "data": {
      "text/plain": [
       "{'Thriller': '1982',\n",
       " 'Back in Black': '1980',\n",
       " 'The Dark Side of the Moon': '1973',\n",
       " 'The Bodyguard': '1992',\n",
       " 'Bat Out of Hell': '1977',\n",
       " 'Their Greatest Hits (1971-1975)': '1976',\n",
       " 'Saturday Night Fever': '1977',\n",
       " 'Rumours': '1977',\n",
       " 'Graduation': '2007'}"
      ]
     },
     "execution_count": 54,
     "metadata": {},
     "output_type": "execute_result"
    }
   ],
   "source": [
    "\n",
    "\n",
    "# Append value with key into dictionary\n",
    "\n",
    "release_year_dict['Graduation'] = '2007'\n",
    "release_year_dict"
   ]
  },
  {
   "cell_type": "markdown",
   "metadata": {},
   "source": [
    "# We can delete an entry:"
   ]
  },
  {
   "cell_type": "code",
   "execution_count": 55,
   "metadata": {},
   "outputs": [
    {
     "data": {
      "text/plain": [
       "{'Back in Black': '1980',\n",
       " 'The Dark Side of the Moon': '1973',\n",
       " 'The Bodyguard': '1992',\n",
       " 'Bat Out of Hell': '1977',\n",
       " 'Their Greatest Hits (1971-1975)': '1976',\n",
       " 'Saturday Night Fever': '1977',\n",
       " 'Rumours': '1977'}"
      ]
     },
     "execution_count": 55,
     "metadata": {},
     "output_type": "execute_result"
    }
   ],
   "source": [
    "# Delete entries by key\n",
    "\n",
    "del(release_year_dict['Thriller'])\n",
    "del(release_year_dict['Graduation'])\n",
    "release_year_dict"
   ]
  },
  {
   "cell_type": "markdown",
   "metadata": {},
   "source": [
    "# Verify the key is in the dictionary\n"
   ]
  },
  {
   "cell_type": "code",
   "execution_count": 56,
   "metadata": {},
   "outputs": [
    {
     "data": {
      "text/plain": [
       "True"
      ]
     },
     "execution_count": 56,
     "metadata": {},
     "output_type": "execute_result"
    }
   ],
   "source": [
    "# Verify the key is in the dictionary\n",
    "\n",
    "'The Bodyguard' in release_year_dict"
   ]
  },
  {
   "cell_type": "code",
   "execution_count": 57,
   "metadata": {},
   "outputs": [
    {
     "data": {
      "text/plain": [
       "False"
      ]
     },
     "execution_count": 57,
     "metadata": {},
     "output_type": "execute_result"
    }
   ],
   "source": [
    "\"1977\" in release_year_dict\n",
    "\n",
    "\n",
    "\n"
   ]
  },
  {
   "cell_type": "markdown",
   "metadata": {},
   "source": [
    "# Zip Function"
   ]
  },
  {
   "cell_type": "raw",
   "metadata": {},
   "source": [
    "Python zip() method takes iterable or containers and returns a single iterator object, having mapped values from all the containers. It is used to map the similar index of multiple containers so that they can be used just using a single entity. Syntax : zip(*iterators)"
   ]
  },
  {
   "cell_type": "code",
   "execution_count": 68,
   "metadata": {},
   "outputs": [
    {
     "name": "stdout",
     "output_type": "stream",
     "text": [
      "{'Ten': 10, 'Twenty': 20, 'Thirty': 30}\n"
     ]
    }
   ],
   "source": [
    "#Solution 1: The zip() function and a dict() constructor\n",
    "\n",
    "#Use the zip(keys, values) to aggregate two lists.\n",
    "#Wrap the result of a zip() function into a dict() constructor.\n",
    "keys = ['Ten', 'Twenty', 'Thirty']\n",
    "values = [10, 20, 30]\n",
    "\n",
    "res_dict = dict(zip(keys, values))\n",
    "print(res_dict)\n"
   ]
  },
  {
   "cell_type": "markdown",
   "metadata": {},
   "source": [
    "# Check if a value exists in a dictionary"
   ]
  },
  {
   "cell_type": "code",
   "execution_count": 69,
   "metadata": {},
   "outputs": [
    {
     "name": "stdout",
     "output_type": "stream",
     "text": [
      "200 present in a dict\n"
     ]
    }
   ],
   "source": [
    "sample_dict = {'a': 100, 'b': 200, 'c': 300}\n",
    "if 200 in sample_dict.values():\n",
    "    print('200 present in a dict')"
   ]
  },
  {
   "cell_type": "code",
   "execution_count": null,
   "metadata": {},
   "outputs": [],
   "source": []
  },
  {
   "cell_type": "code",
   "execution_count": null,
   "metadata": {},
   "outputs": [],
   "source": []
  }
 ],
 "metadata": {
  "kernelspec": {
   "display_name": "Python 3",
   "language": "python",
   "name": "python3"
  },
  "language_info": {
   "codemirror_mode": {
    "name": "ipython",
    "version": 3
   },
   "file_extension": ".py",
   "mimetype": "text/x-python",
   "name": "python",
   "nbconvert_exporter": "python",
   "pygments_lexer": "ipython3",
   "version": "3.8.5"
  }
 },
 "nbformat": 4,
 "nbformat_minor": 4
}
