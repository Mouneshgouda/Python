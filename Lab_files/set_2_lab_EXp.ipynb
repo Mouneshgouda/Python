{
  "nbformat": 4,
  "nbformat_minor": 0,
  "metadata": {
    "colab": {
      "provenance": []
    },
    "kernelspec": {
      "name": "python3",
      "display_name": "Python 3"
    },
    "language_info": {
      "name": "python"
    }
  },
  "cells": [
    {
      "cell_type": "markdown",
      "source": [
        "# 2.A program that simulates a school management system, with classes for the students, the teachers, and the courses."
      ],
      "metadata": {
        "id": "29TyJ2La3Zj2"
      }
    },
    {
      "cell_type": "code",
      "execution_count": 39,
      "metadata": {
        "colab": {
          "base_uri": "https://localhost:8080/",
          "height": 0
        },
        "id": "RpWp5dt-spW3",
        "outputId": "7a4687fa-94e5-4156-f70c-912e174a4f6e"
      },
      "outputs": [
        {
          "output_type": "stream",
          "name": "stdout",
          "text": [
            "Student Name: Sad, Grade: 10\n",
            "Enrolled in Love and Peace taught by The Creator:-God \n",
            "\n",
            "Student Name: Ego, Grade: 11\n",
            "Enrolled in Love and Peace taught by The Creator:-God \n",
            "\n"
          ]
        }
      ],
      "source": [
        "class Student:\n",
        "    def __init__(self, name, grade):\n",
        "        self.name = name\n",
        "        self.grade = grade\n",
        "\n",
        "    def get_details(self):\n",
        "        return f\"Student Name: {self.name}, Grade: {self.grade}\"\n",
        "\n",
        "class Teacher:\n",
        "    def __init__(self, name, subject):\n",
        "        self.name = name\n",
        "        self.subject = subject\n",
        "\n",
        "    def get_details(self):\n",
        "        return f\"Teacher Name: {self.name}, Subject: {self.subject}\"\n",
        "\n",
        "class Course:\n",
        "    def __init__(self, name, teacher):\n",
        "        self.name = name\n",
        "        self.teacher = teacher\n",
        "        self.students = []\n",
        "\n",
        "    def enroll_student(self, student):\n",
        "        self.students.append(student)\n",
        "\n",
        "    def list_students(self):\n",
        "        return [student.name for student in self.students]\n",
        "\n",
        "# Example usage:\n",
        "student1 = Student(\"Sad\", 10)\n",
        "student2 = Student(\"Ego\", 11)\n",
        "\n",
        "teacher1 = Teacher(\"The Creator:-God \", \"Love and Peace\")\n",
        "\n",
        "course1 = Course(\"Love and Peace\", teacher1)\n",
        "course1.enroll_student(student1)\n",
        "course1.enroll_student(student2)\n",
        "\n",
        "# Print student details\n",
        "for student in [student1, student2]:\n",
        "    print(student.get_details())\n",
        "    print(f\"Enrolled in {course1.name} taught by {teacher1.name}\\n\")\n"
      ]
    },
    {
      "cell_type": "markdown",
      "source": [
        "# 1.A program that models a bank account, with classes for the account, the customer, and the bank"
      ],
      "metadata": {
        "id": "Q26BuaEt2qdY"
      }
    },
    {
      "cell_type": "code",
      "source": [
        "class Customer:\n",
        "    def __init__(self, name, adddress, contact):\n",
        "        self.name, self.adddress, self.contact = name, adddress, contact\n",
        "\n",
        "    def details(self):\n",
        "        return f\"Customer Name: {self.name}\\nFinding_address_In_a: {self.adddress}\\nContact-Numner: {self.contact}\"\n",
        "\n",
        "class BankAccount:\n",
        "    def __init__(self, account_number, customer, balance=0):\n",
        "        self.account_number, self.customer, self.balance = account_number, customer, balance\n",
        "\n",
        "    def deposit(self, amount):\n",
        "        self.balance += amount\n",
        "        return f\"Deposit of {amount} successful. New balance: {self.balance}\"\n",
        "\n",
        "    def withdraw(self, amount):\n",
        "        if amount <= self.balance:\n",
        "            self.balance -= amount\n",
        "            return f\"Withdrawal of {amount} successful. New balance: {self.balance}\"\n",
        "        else:\n",
        "            return \"What A Drag I Don't Have Balance.....\"\n",
        "\n",
        "    def details(self):\n",
        "        return f\"Account Number: {self.account_number}\\n{self.customer.details()}\\nCurrent balance: {self.balance}\"\n",
        "\n",
        "class Bank:\n",
        "    def __init__(self):\n",
        "        self.accounts = {}\n",
        "\n",
        "    def add_account(self, account):\n",
        "        self.accounts[account.account_number] = account\n",
        "        return f\"Account {account.account_number} added successfully.\"\n",
        "\n",
        "    def get_account(self, account_number):\n",
        "        return self.accounts.get(account_number, \"Account not found.\")\n",
        "\n",
        "    def info(self):\n",
        "        return f\"Number of Accounts: {len(self.accounts)}\"\n",
        "\n",
        "# Example usage:\n",
        "customer1 = Customer(\" A Unkown Man \", \"Unknown-Place\", \"Still searching\")\n",
        "account1 = BankAccount(\"still Finding-Unknown-Peace\", customer1, 1000)\n",
        "\n",
        "bank = Bank()\n",
        "bank.add_account(account1)\n",
        "print(\"---------------------------\")\n",
        "# Print information\n",
        "print(bank.info())\n",
        "print(customer1.details())\n",
        "print(\"----------------------------\")\n",
        "print(account1.details())\n",
        "print(\"----------------------------\")\n",
        "# Perform transactions\n",
        "print(account1.deposit(500))\n",
        "print(account1.withdraw(200))\n",
        "print(account1.details())"
      ],
      "metadata": {
        "colab": {
          "base_uri": "https://localhost:8080/",
          "height": 0
        },
        "id": "jWowpP9HvbPD",
        "outputId": "ef5d11e1-2e16-4c37-dca2-00119af4f841"
      },
      "execution_count": 32,
      "outputs": [
        {
          "output_type": "stream",
          "name": "stdout",
          "text": [
            "---------------------------\n",
            "Number of Accounts: 1\n",
            "Customer Name:  A Unkown Man \n",
            "Finding_address_In_a: Unknown-Place\n",
            "Contact-Numner: Still searching\n",
            "----------------------------\n",
            "Account Number: still Finding-Unknown-Peace\n",
            "Customer Name:  A Unkown Man \n",
            "Finding_address_In_a: Unknown-Place\n",
            "Contact-Numner: Still searching\n",
            "Current balance: 1000\n",
            "----------------------------\n",
            "Deposit of 500 successful. New balance: 1500\n",
            "Withdrawal of 200 successful. New balance: 1300\n",
            "Account Number: still Finding-Unknown-Peace\n",
            "Customer Name:  A Unkown Man \n",
            "Finding_address_In_a: Unknown-Place\n",
            "Contact-Numner: Still searching\n",
            "Current balance: 1300\n"
          ]
        }
      ]
    },
    {
      "cell_type": "markdown",
      "source": [
        "# 3.A program that reads a text file and counts the number of words in it."
      ],
      "metadata": {
        "id": "GgxSFAE94hUP"
      }
    },
    {
      "cell_type": "code",
      "source": [
        "def count_words(file_path):\n",
        "    try:\n",
        "        with open(file_path, 'r') as file:\n",
        "            content = file.read()\n",
        "            words = content.split()\n",
        "            word_count = len(words)\n",
        "            return word_count\n",
        "    except FileNotFoundError:\n",
        "        return \"File not found.\"\n",
        "    except Exception as e:\n",
        "        return f\"An error occurred: {e}\"\n",
        "\n",
        "# Example usage:\n",
        "file_path = 'sample_text.txt'  # Replace with the path to your text file\n",
        "result = count_words(file_path)\n",
        "\n",
        "if isinstance(result, int):\n",
        "    print(f\"Number of words in the file: {result}\")\n",
        "else:\n",
        "    print(result)"
      ],
      "metadata": {
        "colab": {
          "base_uri": "https://localhost:8080/",
          "height": 0
        },
        "id": "Wh6WZBAn3sXb",
        "outputId": "df442e9f-13a3-46d1-8bcc-db9e082a1f92"
      },
      "execution_count": 40,
      "outputs": [
        {
          "output_type": "stream",
          "name": "stdout",
          "text": [
            "File not found.\n"
          ]
        }
      ]
    },
    {
      "cell_type": "markdown",
      "source": [
        "#                    OR"
      ],
      "metadata": {
        "id": "JTCUxMYM4UtM"
      }
    },
    {
      "cell_type": "code",
      "source": [
        "file=open(\"Hello.txt\",'r')\n",
        "content = file.read()\n",
        "content"
      ],
      "metadata": {
        "colab": {
          "base_uri": "https://localhost:8080/",
          "height": 35
        },
        "id": "4elgNoN13uyc",
        "outputId": "52040563-f30e-4063-e7a5-682031409e71"
      },
      "execution_count": 36,
      "outputs": [
        {
          "output_type": "execute_result",
          "data": {
            "text/plain": [
              "'hejig  thrg hfn\\n rghg ghi '"
            ],
            "application/vnd.google.colaboratory.intrinsic+json": {
              "type": "string"
            }
          },
          "metadata": {},
          "execution_count": 36
        }
      ]
    },
    {
      "cell_type": "code",
      "source": [
        "words = content.split()\n",
        "words"
      ],
      "metadata": {
        "colab": {
          "base_uri": "https://localhost:8080/",
          "height": 0
        },
        "id": "jRpr0ZfP38Np",
        "outputId": "0d0af8fe-75b0-4c9c-e9af-6d6140ab07b4"
      },
      "execution_count": 37,
      "outputs": [
        {
          "output_type": "execute_result",
          "data": {
            "text/plain": [
              "['hejig', 'thrg', 'hfn', 'rghg', 'ghi']"
            ]
          },
          "metadata": {},
          "execution_count": 37
        }
      ]
    },
    {
      "cell_type": "code",
      "source": [
        "word_count = len(words)\n",
        "print(word_count)"
      ],
      "metadata": {
        "colab": {
          "base_uri": "https://localhost:8080/",
          "height": 0
        },
        "id": "3Pfknr6g35wo",
        "outputId": "9337757d-a2ed-47ee-b73c-f53a1a8443cd"
      },
      "execution_count": 38,
      "outputs": [
        {
          "output_type": "stream",
          "name": "stdout",
          "text": [
            "5\n"
          ]
        }
      ]
    },
    {
      "cell_type": "markdown",
      "source": [
        "#4. A program that reads a CSV file and calculates the average of the values in a specified column"
      ],
      "metadata": {
        "id": "YHm_75BL4kxj"
      }
    },
    {
      "cell_type": "code",
      "source": [
        "import pandas as pd\n",
        "\n",
        "def calculate_column_average(file_path, column_name):\n",
        "    try:\n",
        "        # Read the CSV file into a pandas DataFrame\n",
        "        df = pd.read_csv(file_path)\n",
        "\n",
        "        # Check if the specified column name is present in the DataFrame\n",
        "        if column_name not in df.columns:\n",
        "            return f\"Column '{column_name}' not found in the CSV file.\"\n",
        "\n",
        "        # Calculate the average of the specified column\n",
        "        average = df[column_name].mean()\n",
        "        return average\n",
        "\n",
        "    except FileNotFoundError:\n",
        "        return \"File not found.\"\n",
        "    except Exception as e:\n",
        "        return f\"An error occurred: {e}\"\n",
        "\n",
        "# Example usage:\n",
        "file_path = 'sample_data.csv'  # Replace with the path to your CSV file\n",
        "column_name = 'column_name'  # Replace with the name of the column for which you want to calculate the average\n",
        "\n",
        "result = calculate_column_average(file_path, column_name)\n",
        "\n",
        "if isinstance(result, float):\n",
        "    print(f\"Average of values in column '{column_name}': {result:.2f}\")\n",
        "else:\n",
        "    print(result)"
      ],
      "metadata": {
        "colab": {
          "base_uri": "https://localhost:8080/",
          "height": 0
        },
        "id": "d0qaJ4j339yq",
        "outputId": "f32ff49c-f80f-4459-9a7c-8655e3960269"
      },
      "execution_count": 41,
      "outputs": [
        {
          "output_type": "stream",
          "name": "stdout",
          "text": [
            "File not found.\n"
          ]
        }
      ]
    },
    {
      "cell_type": "markdown",
      "source": [
        "#        or"
      ],
      "metadata": {
        "id": "6SSW7h5T5cLD"
      }
    },
    {
      "cell_type": "code",
      "source": [
        "import pandas as pd\n",
        "df = pd.read_csv(\"file_path\")\n",
        "df[\"Specified column\"].mean()"
      ],
      "metadata": {
        "id": "poRzN3FN5fT8"
      },
      "execution_count": null,
      "outputs": []
    },
    {
      "cell_type": "markdown",
      "source": [
        "#5. A program that reads an Excel file and prints the data in a tabular format."
      ],
      "metadata": {
        "id": "-rFgd_6P4yEY"
      }
    },
    {
      "cell_type": "code",
      "source": [
        "import pandas as pd\n",
        "\n",
        "def print_excel_data(file_path):\n",
        "    try:\n",
        "        # Read the Excel file into a pandas DataFrame\n",
        "        df = pd.read_excel(file_path)\n",
        "\n",
        "        # Print the DataFrame\n",
        "        print(\"Data in Tabular Format:\")\n",
        "        print(df)\n",
        "\n",
        "    except FileNotFoundError:\n",
        "        print(\"File not found.\")\n",
        "    except Exception as e:\n",
        "        print(f\"An error occurred: {e}\")\n",
        "\n",
        "# Example usage:\n",
        "file_path = 'sample_data.xlsx'  # Replace with the path to your Excel file\n",
        "print_excel_data(file_path)"
      ],
      "metadata": {
        "colab": {
          "base_uri": "https://localhost:8080/",
          "height": 0
        },
        "id": "xjlAqqnA4vk1",
        "outputId": "1e1b1400-c7e6-40c5-9bde-daffbb99f6f3"
      },
      "execution_count": 42,
      "outputs": [
        {
          "output_type": "stream",
          "name": "stdout",
          "text": [
            "File not found.\n"
          ]
        }
      ]
    },
    {
      "cell_type": "markdown",
      "source": [
        "#             or"
      ],
      "metadata": {
        "id": "JBzydlju5Psq"
      }
    },
    {
      "cell_type": "code",
      "source": [
        "import pandas as pd\n",
        "df = pd.read_excel(\"file_path\")\n",
        "\n",
        "# Print the DataFrame\n",
        "print(\"Data in Tabular Format:\")\n",
        "print(df)\n"
      ],
      "metadata": {
        "id": "85kmEDCJ5ScX"
      },
      "execution_count": null,
      "outputs": []
    }
  ]
}