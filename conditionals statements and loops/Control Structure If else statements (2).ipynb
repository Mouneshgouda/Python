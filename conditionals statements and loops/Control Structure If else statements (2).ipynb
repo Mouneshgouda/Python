{
 "cells": [
  {
   "cell_type": "markdown",
   "metadata": {},
   "source": [
    "<h6><div style=\"font-family: Trebuchet MS; background-color: #1b191d; color: #FFFFFF; padding: 12px; font-size: 35px; line-height: 1.5;text-align: center; line-height: 1.;\">🅶🆄 🆁🅰🅽🅽🅰 🅶🅾🆄🅳🅰--🅳🅰🆃🅰🆂🅲🅸🅴🅽🆃 👨‍💻</div> </h6>"
   ]
  },
  {
   "cell_type": "markdown",
   "metadata": {},
   "source": [
    "<h1 style=\"font-family: Trebuchet MS; padding: 12px; font-size: 48px; color: #19AADE; text-align: center; line-height: 1.25;\"><b>🏬🔧<span style=\"color: #000000\"> Today Let's Discusss about what? Any Idea 🔫 </span></b><br><span style=\"color: #19AADE; font-size: 24px\"></span></h1>\n",
    "<hr>"
   ]
  },
  {
   "cell_type": "markdown",
   "metadata": {},
   "source": [
    "# Control Structure"
   ]
  },
  {
   "cell_type": "code",
   "execution_count": null,
   "metadata": {},
   "outputs": [],
   "source": [
    "Control --- Controlling the flow of execution in the program\n",
    "\n",
    "structure--- Nature of flow\n",
    "\n",
    "1. sequence control structure\n",
    "\n",
    "2. Selection/Condition control structure\n",
    "\n",
    "3. Loop/Iteration control structure"
   ]
  },
  {
   "cell_type": "raw",
   "metadata": {},
   "source": [
    "1. A control structure (or flow of control) is a block of programming that analyses variables and chooses a direction in which to go based on given parameters.\n",
    "\n",
    "2. In simple sentence, a control structure is just a decision that the computer makes."
   ]
  },
  {
   "cell_type": "raw",
   "metadata": {},
   "source": [
    "Control = Flow of Execution Instruction\n",
    "\n",
    "Structure = List of instrcutions= Programs = Task"
   ]
  },
  {
   "cell_type": "raw",
   "metadata": {},
   "source": [
    "1.sequence\n",
    "\n",
    "2. Condition/Selection\n",
    "\n",
    "3. Iteration/looping"
   ]
  },
  {
   "cell_type": "markdown",
   "metadata": {},
   "source": [
    "# What are Conditional Statements in Python?"
   ]
  },
  {
   "cell_type": "raw",
   "metadata": {},
   "source": [
    "Conditional Statement in Python perform different computations or actions depending on whether a specific Boolean constraint evaluates to true or false. Conditional statements are handled by IF statements in Python."
   ]
  },
  {
   "cell_type": "markdown",
   "metadata": {},
   "source": [
    "# Python Conditions and If statements\n"
   ]
  },
  {
   "cell_type": "markdown",
   "metadata": {},
   "source": [
    "# Comparison Operators¶"
   ]
  },
  {
   "cell_type": "raw",
   "metadata": {},
   "source": [
    "Comparison operations compare some value or operand and, based on a condition, they produce a Boolean. When comparing two values you can use these operators:\n",
    "\n",
    "equal: ==\n",
    "\n",
    "not equal: !=\n",
    "\n",
    "greater than: >\n",
    "\n",
    "less than: <\n",
    "\n",
    "greater than or equal to: >=\n",
    "\n",
    "less than or equal to: <="
   ]
  },
  {
   "cell_type": "raw",
   "metadata": {},
   "source": [
    "Python supports the usual logical conditions from mathematics:\n",
    "\n",
    "Equals: a == b\n",
    "Not Equals: a != b\n",
    "Less than: a < b\n",
    "Less than or equal to: a <= b\n",
    "Greater than: a > b\n",
    "Greater than or equal to: a >= b\n",
    "These conditions can be used in several ways, most commonly in \"if statements\" and loops.\n",
    "\n"
   ]
  },
  {
   "cell_type": "code",
   "execution_count": 7,
   "metadata": {},
   "outputs": [
    {
     "data": {
      "text/plain": [
       "False"
      ]
     },
     "execution_count": 7,
     "metadata": {},
     "output_type": "execute_result"
    }
   ],
   "source": [
    "# Condition Equal\n",
    "\n",
    "a = 6\n",
    "a == 5"
   ]
  },
  {
   "cell_type": "raw",
   "metadata": {},
   "source": [
    "The result is False, as 5 does not equal to 6.\n",
    "\n",
    "Consider the following equality comparison operator i > 5. If the value of the left operand, in this case the variable i, is greater than the value of the right operand, in this case 5, then the statement is True. Otherwise, the statement is False. If i is equal to 6, because 6 is larger than 5, the output is True."
   ]
  },
  {
   "cell_type": "code",
   "execution_count": 8,
   "metadata": {},
   "outputs": [
    {
     "data": {
      "text/plain": [
       "True"
      ]
     },
     "execution_count": 8,
     "metadata": {},
     "output_type": "execute_result"
    }
   ],
   "source": [
    "# Greater than Sign\n",
    "\n",
    "i = 6\n",
    "i > 5\n",
    "\n",
    "\n",
    "\n"
   ]
  },
  {
   "cell_type": "raw",
   "metadata": {},
   "source": [
    "Set i = 2. The statement is false as 2 is not greater than 5:"
   ]
  },
  {
   "cell_type": "code",
   "execution_count": 9,
   "metadata": {},
   "outputs": [
    {
     "data": {
      "text/plain": [
       "False"
      ]
     },
     "execution_count": 9,
     "metadata": {},
     "output_type": "execute_result"
    }
   ],
   "source": [
    "# Greater than Sign\n",
    "\n",
    "i = 2\n",
    "i > 5"
   ]
  },
  {
   "cell_type": "raw",
   "metadata": {},
   "source": [
    "Let's display some values for i in the figure. Set the values greater than 5 in green and the rest in red. The green region represents where the condition is True, the red where the statement is False. If the value of i is 2, we get False as the 2 falls in the red region. Similarly, if the value for i is 6 we get a True as the condition falls in the green region."
   ]
  },
  {
   "cell_type": "markdown",
   "metadata": {},
   "source": [
    "<img src=\"https://s3-api.us-geo.objectstorage.softlayer.net/cf-courses-data/CognitiveClass/PY0101EN/Chapter%203/Images/CondsIneq.gif\" width=\"650\" />"
   ]
  },
  {
   "cell_type": "raw",
   "metadata": {},
   "source": [
    "We can apply the same methods on strings. For example, use an equality operator on two different strings. As the strings are not equal, we get a False."
   ]
  },
  {
   "cell_type": "code",
   "execution_count": 10,
   "metadata": {},
   "outputs": [
    {
     "data": {
      "text/plain": [
       "False"
      ]
     },
     "execution_count": 10,
     "metadata": {},
     "output_type": "execute_result"
    }
   ],
   "source": [
    "# Use Equality sign to compare the strings\n",
    "\n",
    "\"ACDC\" == \"Michael Jackson\""
   ]
  },
  {
   "cell_type": "raw",
   "metadata": {},
   "source": [
    "If we use the inequality operator, the output is going to be True as the strings are not equal."
   ]
  },
  {
   "cell_type": "code",
   "execution_count": 13,
   "metadata": {},
   "outputs": [
    {
     "data": {
      "text/plain": [
       "True"
      ]
     },
     "execution_count": 13,
     "metadata": {},
     "output_type": "execute_result"
    }
   ],
   "source": [
    "# Use Inequality sign to compare the strings\n",
    "\n",
    "\"ACDC\" != \"Michael Jackson\"\n"
   ]
  },
  {
   "cell_type": "raw",
   "metadata": {},
   "source": [
    "\n",
    "Inequality operation is also used to compare the letters/words/symbols according to the ASCII value of letters. The decimal value shown in the following table represents the order of the character:\n",
    "\n",
    "For example, the ASCII code for ! is 21, while the ASCII code for + is 43. Therefore + is larger than ! as 43 is greater than 21.Inequality operation is also used to compare the letters/words/symbols according to the ASCII value of letters. The decimal value shown in the following table represents the order of the character:\n",
    "\n",
    "Similarly, the value for A is 101, and the value for B is 102 therefore:\n",
    "\n",
    "Here we have used ord() function to convert a character to an integer (ASCII value). This function returns the Unicode code point of that character.\n",
    "\n",
    "Unicode is also an encoding technique that provides a unique number to a character. While ASCII only encodes 128 characters, the current Unicode has more than 100,000 characters from hundreds of scripts."
   ]
  },
  {
   "cell_type": "code",
   "execution_count": 8,
   "metadata": {},
   "outputs": [
    {
     "name": "stdout",
     "output_type": "stream",
     "text": [
      "The ASCII value of 'p' is 112\n"
     ]
    }
   ],
   "source": [
    "# Program to find the ASCII value of the given character\n",
    "\n",
    "c = 'p'\n",
    "print(\"The ASCII value of '\" + c + \"' is\", ord(c))"
   ]
  },
  {
   "cell_type": "code",
   "execution_count": 9,
   "metadata": {},
   "outputs": [
    {
     "data": {
      "text/plain": [
       "True"
      ]
     },
     "execution_count": 9,
     "metadata": {},
     "output_type": "execute_result"
    }
   ],
   "source": [
    "'B'>'A'"
   ]
  },
  {
   "cell_type": "code",
   "execution_count": 10,
   "metadata": {},
   "outputs": [
    {
     "data": {
      "text/plain": [
       "66"
      ]
     },
     "execution_count": 10,
     "metadata": {},
     "output_type": "execute_result"
    }
   ],
   "source": [
    "ord('B')"
   ]
  },
  {
   "cell_type": "code",
   "execution_count": 11,
   "metadata": {},
   "outputs": [
    {
     "data": {
      "text/plain": [
       "65"
      ]
     },
     "execution_count": 11,
     "metadata": {},
     "output_type": "execute_result"
    }
   ],
   "source": [
    "ord('A')"
   ]
  },
  {
   "cell_type": "markdown",
   "metadata": {},
   "source": [
    "<h3 style=\"font-family: Trebuchet MS; padding: 12px; font-size: 40px; color: #19AADE; text-align: center; line-height: 1.;\"><b><span style=\"color: #000000\"> What is Python If Statement </span> </b></h3>"
   ]
  },
  {
   "cell_type": "raw",
   "metadata": {},
   "source": [
    "Decision making is the most important aspect of almost all the programming languages. As the name implies, decision making allows us to run a particular block of code for a particular decision. Here, the decisions are made on the validity of the particular conditions. Condition checking is the backbone of decision making.\n",
    "\n",
    "In python, decision making is performed by the following statements."
   ]
  },
  {
   "cell_type": "raw",
   "metadata": {},
   "source": [
    "1. There comes situations in real life when we need to make some decisions and based on these decisions, we decide what should we do next. \n",
    "\n",
    "2. Similar situations arise in programming also where we need to make some decisions and based on these decisions we will execute the next block of code. \n",
    "\n",
    "3. Decision-making statements in programming languages decide the direction of the flow of program execution. \n",
    "\n",
    "4. Python if Statement is used for decision-making operations. \n",
    "\n",
    "5. It contains a body of code which runs only when the condition given in the if statement is true. \n",
    "\n",
    "6. If the condition is false, then the optional else statement runs which contains some code for the else condition."
   ]
  },
  {
   "cell_type": "raw",
   "metadata": {},
   "source": [
    "Statement\tDescription\n",
    "\n",
    "1. If Statement\tThe if statement is used to test a specific condition. If the condition is true, a block of code (if-block) will be executed.\n",
    "\n",
    "\n",
    "2. If - else Statement\tThe if-else statement is similar to if statement except the fact that, it also provides the block of the code for the false case of the condition to be checked. If the condition provided in the if statement is false, then the else statement will be executed.\n",
    "\n",
    "3. Nested if Statement\tNested if statements enable us to use if ? else statement inside an outer if statement."
   ]
  },
  {
   "cell_type": "markdown",
   "metadata": {},
   "source": [
    "<h2><div style=\"font-family: Trebuchet MS; background-color: red; color: #FFFFFF; padding: 12px; font-size: 35px; line-height: 1.5;text-align: center; line-height: 1.;\">Indentation in Python 🤔</div> "
   ]
  },
  {
   "cell_type": "raw",
   "metadata": {},
   "source": [
    "1. Python relies on indentation (whitespace at the beginning of a line) to define scope in the code. Other programming languages often use curly-brackets for this purpose.\n",
    "\n",
    "2. For the ease of programming and to achieve simplicity, python doesn't allow the use of parentheses for the block level code. In Python, indentation is used to declare a block. If two statements are at the same indentation level, then they are the part of the same block.\n",
    "\n",
    "3. Generally, four spaces are given to indent the statements which are a typical amount of indentation in python.\n",
    "\n",
    "\n",
    "4. Indentation is the most used part of the python language since it declares the block of code. \n",
    "\n",
    "5. All the statements of one block are intended at the same level indentation. We will see how the actual indentation takes place in decision making and other stuff in python.\n",
    "\n"
   ]
  },
  {
   "cell_type": "markdown",
   "metadata": {},
   "source": [
    "<h2><div style=\"font-family: Trebuchet MS; background-color: #176BA0;; color: #FFFFFF; padding: 12px; font-size: 35px; line-height: 1.5;text-align: center; line-height: 1.;\">🅸🅵--🆂🆃🅰🆃🅴🅼🅴🅽🆃🧨💥</div> "
   ]
  },
  {
   "cell_type": "raw",
   "metadata": {},
   "source": [
    "The if statement is used to test a particular condition and if the condition is true, it executes a block of code known as if-block.\n",
    "\n",
    "The condition of if statement can be any valid logical expression which can be either evaluated to true or false."
   ]
  },
  {
   "cell_type": "raw",
   "metadata": {},
   "source": [
    "The syntax of the if-statement is given below.\n",
    "if condition:\n",
    "   # Statements to execute if\n",
    "   # condition is true\n"
   ]
  },
  {
   "cell_type": "markdown",
   "metadata": {},
   "source": [
    "<h2><div style=\"font-family: Trebuchet MS; background-color: #176BA0;; color: #FFFFFF; padding: 12px; font-size: 35px; line-height: 1.5;text-align: center; line-height: 1.;\"> Flow Chart📈 </div> "
   ]
  },
  {
   "attachments": {
    "image.png": {
     "image/png": "[encoded data removed]"
    }
   },
   "cell_type": "markdown",
   "metadata": {},
   "source": [
    "![image.png](attachment:image.png)"
   ]
  },
  {
   "cell_type": "code",
   "execution_count": null,
   "metadata": {},
   "outputs": [],
   "source": []
  },
  {
   "attachments": {
    "1.gif": {
     "image/gif": "[encoded data removed]"
    }
   },
   "cell_type": "markdown",
   "metadata": {},
   "source": [
    "![1.gif](attachment:1.gif)"
   ]
  },
  {
   "cell_type": "markdown",
   "metadata": {},
   "source": [
    "![](1.gif)"
   ]
  },
  {
   "cell_type": "markdown",
   "metadata": {},
   "source": [
    "![](2.png)"
   ]
  },
  {
   "cell_type": "code",
   "execution_count": 21,
   "metadata": {},
   "outputs": [],
   "source": [
    "# python program to illustrate If statement\n",
    "\n",
    "i = 10\n",
    "\n",
    "if (i > 15):\n",
    "\tprint(\"10 is less than 15\")\n"
   ]
  },
  {
   "cell_type": "code",
   "execution_count": 14,
   "metadata": {},
   "outputs": [],
   "source": [
    "# python program to illustrate If statement\n",
    "\n",
    "i = 10\n",
    "\n",
    "if (i > 15):\n",
    "\tprint(\"10 is less than 15\")\n"
   ]
  },
  {
   "cell_type": "code",
   "execution_count": 25,
   "metadata": {},
   "outputs": [
    {
     "name": "stdout",
     "output_type": "stream",
     "text": [
      "enter the number?9\n"
     ]
    }
   ],
   "source": [
    "#Example 2\n",
    "num = int(input(\"enter the number?\"))  \n",
    "if num%2 == 0:  \n",
    "    print(\"Number is even\",num)  "
   ]
  },
  {
   "cell_type": "code",
   "execution_count": 30,
   "metadata": {},
   "outputs": [
    {
     "name": "stdout",
     "output_type": "stream",
     "text": [
      "Enter a? 4\n",
      "Enter b? 6\n",
      "Enter c? 8\n",
      "c is largest\n"
     ]
    }
   ],
   "source": [
    "#Example 2 : Program to print the largest of the three numbers.\n",
    "a = int(input(\"Enter a? \"));  \n",
    "b = int(input(\"Enter b? \"));  \n",
    "c = int(input(\"Enter c? \"));  \n",
    "if a>b and a>c:  \n",
    "    print(\"a is largest\");  \n",
    "if b>a and b>c:  \n",
    "    print(\"b is largest\");  \n",
    "if c>a and c>b:  \n",
    "    print(\"c is largest\");  \n"
   ]
  },
  {
   "cell_type": "raw",
   "metadata": {},
   "source": [
    "if condition:\n",
    "   statement1\n",
    "statement2\n",
    "\n",
    "# Here if the condition is true, if block \n",
    "# will consider only statement1 to be inside \n",
    "# its block."
   ]
  },
  {
   "cell_type": "code",
   "execution_count": 17,
   "metadata": {},
   "outputs": [
    {
     "name": "stdout",
     "output_type": "stream",
     "text": [
      "I am Not in if\n"
     ]
    }
   ],
   "source": [
    "# python program to illustrate If statement\n",
    "\n",
    "i = 10\n",
    "\n",
    "if (i > 15):\n",
    "\tprint(\"10 is less than 15\")\n",
    "print(\"I am Not in if\")\n"
   ]
  },
  {
   "cell_type": "code",
   "execution_count": 18,
   "metadata": {},
   "outputs": [
    {
     "name": "stdout",
     "output_type": "stream",
     "text": [
      "Nagpur\n"
     ]
    }
   ],
   "source": [
    "a = 333\n",
    "b = 300\n",
    "if b > a:\n",
    "    print(\"b is greater than a\") # you will get an error\n",
    "    print(\"India\")\n",
    "print('Nagpur')"
   ]
  },
  {
   "cell_type": "code",
   "execution_count": 19,
   "metadata": {},
   "outputs": [
    {
     "name": "stdout",
     "output_type": "stream",
     "text": [
      "\n",
      "The number is less than 20\n",
      "\n",
      "Kunal\n",
      "\n",
      "b\n",
      "India\n"
     ]
    }
   ],
   "source": [
    "some_num = 10\n",
    "if some_num < 20:\n",
    "    print()\n",
    "    print(\"The number is less than 20\")\n",
    "    print()\n",
    "    print(\"Kunal\")\n",
    "    print()\n",
    "    print('b')\n",
    "\n",
    "print(\"India\")\n",
    "    \n",
    "    "
   ]
  },
  {
   "cell_type": "markdown",
   "metadata": {},
   "source": [
    "<h2><div style=\"font-family: Trebuchet MS; background-color: #176BA0;; color: #FFFFFF; padding: 12px; font-size: 35px; line-height: 1.5;text-align: center; line-height: 1.;\"> 🅸🅵--🅴🅻🆂🅴--🆂🆃🅰🆃🅴🅼🅴🅽🆃 ➖📝</div> "
   ]
  },
  {
   "cell_type": "raw",
   "metadata": {},
   "source": [
    "1. The if statement alone tells us that if a condition is true it will execute a block of statements and if the condition is false it won’t. \n",
    "\n",
    "2. But what if we want to do something else if the condition is false. Here comes the else statement. \n",
    "\n",
    "3. We can use the else statement with if statement to execute a block of code when the condition is false. \n",
    "\n",
    "4. The if-else statement provides an else block combined with the if statement which is executed in the false case of the condition.\n",
    "\n",
    "5. If the condition is true, then the if-block is executed. Otherwise, the else-block is executed."
   ]
  },
  {
   "cell_type": "raw",
   "metadata": {},
   "source": [
    "#The syntax of the if-else statement is given below.\n",
    "\n",
    "\n",
    "if condition:  \n",
    "    #block of statements   \n",
    "else:   \n",
    "    #another block of statements (else-block)   \n",
    "    \n",
    "    \n",
    "    if (condition):\n",
    "    # Executes this block if\n",
    "    # condition is true\n",
    "else:\n",
    "    # Executes this block if\n",
    "    # condition is false\n",
    "    \n",
    "    \n",
    "    or\n",
    "\n",
    "if condition:  \n",
    "    #block of statements   \n",
    "else:   \n",
    "    #another block of statements (else-block)   "
   ]
  },
  {
   "cell_type": "markdown",
   "metadata": {},
   "source": [
    "<h2><div style=\"font-family: Trebuchet MS; background-color: #176BA0;; color: #FFFFFF; padding: 12px; font-size: 35px; line-height: 1.5;text-align: center; line-height: 1.;\"> Flow Chart📈 </div> "
   ]
  },
  {
   "attachments": {
    "image.png": {
     "image/png": "[encoded data removed]"
    }
   },
   "cell_type": "markdown",
   "metadata": {},
   "source": [
    "![image.png](attachment:image.png)"
   ]
  },
  {
   "attachments": {
    "image.png": {
     "image/png": "[encoded data removed]"
    }
   },
   "cell_type": "markdown",
   "metadata": {},
   "source": [
    "![image.png](attachment:image.png)"
   ]
  },
  {
   "cell_type": "markdown",
   "metadata": {},
   "source": [
    "![](3.png)"
   ]
  },
  {
   "cell_type": "markdown",
   "metadata": {},
   "source": [
    "# Example 1 : Program to check whether a person is eligible to vote or not.¶"
   ]
  },
  {
   "cell_type": "code",
   "execution_count": 35,
   "metadata": {},
   "outputs": [
    {
     "name": "stdout",
     "output_type": "stream",
     "text": [
      "Enter your age? 4\n",
      "Sorry! you have to wait !!\n"
     ]
    }
   ],
   "source": [
    "#Example 1 : Program to check whether a person is eligible to vote or not.\n",
    "age = int (input(\"Enter your age? \"))  \n",
    "if age>=18:  \n",
    "    print(\"You are eligible to vote !!\") \n",
    "else:  \n",
    "    print(\"Sorry! you have to wait !!\") "
   ]
  },
  {
   "cell_type": "markdown",
   "metadata": {},
   "source": [
    "# Example 2: Program to check whether a number is even or not.\n"
   ]
  },
  {
   "cell_type": "code",
   "execution_count": 36,
   "metadata": {},
   "outputs": [
    {
     "name": "stdout",
     "output_type": "stream",
     "text": [
      "enter the number?66\n",
      "Number is even...\n"
     ]
    }
   ],
   "source": [
    "num = int(input(\"enter the number?\"))  \n",
    "\n",
    "if num%2 == 0:  \n",
    "    print(\"Number is even...\")  \n",
    "else:  \n",
    "    print(\"Number is odd...\")  "
   ]
  },
  {
   "cell_type": "code",
   "execution_count": 24,
   "metadata": {},
   "outputs": [
    {
     "name": "stdout",
     "output_type": "stream",
     "text": [
      "i is greater than 15\n",
      "i'm in else Block\n",
      "i'm not in if and not in else Block\n"
     ]
    }
   ],
   "source": [
    "# python program to illustrate If else statement\n",
    "#!/usr/bin/python\n",
    "\n",
    "i = 20\n",
    "if (i < 15):\n",
    "\tprint(\"i is smaller than 15\")\n",
    "\tprint(\"i'm in if Block\")\n",
    "else:\n",
    "\tprint(\"i is greater than 15\")\n",
    "\tprint(\"i'm in else Block\")\n",
    "print(\"i'm not in if and not in else Block\")\n"
   ]
  },
  {
   "cell_type": "markdown",
   "metadata": {},
   "source": [
    "<h2><div style=\"font-family: Trebuchet MS; background-color: #176BA0;; color: #FFFFFF; padding: 12px; font-size: 35px; line-height: 1.5;text-align: center; line-height: 1.;\">  🅴🅻🅸🅵--🆂🆃🅰🆃🅴🅼🅴🅽🆃</div> "
   ]
  },
  {
   "cell_type": "raw",
   "metadata": {},
   "source": [
    "Elif\n",
    "The elif keyword is pythons way of saying \"if the previous conditions were not true, then try this condition\"."
   ]
  },
  {
   "cell_type": "raw",
   "metadata": {},
   "source": [
    "The elif statement enables us to check multiple conditions and execute the specific block of statements depending upon the true condition among them. We can have any number of elif statements in our program depending upon our need. However, using elif is optional.\n",
    "\n",
    "The elif statement works like an if-else-if ladder statement in C. It must be succeeded by an if statement.\n",
    "\n",
    "The syntax of the elif statement is given below."
   ]
  },
  {
   "cell_type": "raw",
   "metadata": {},
   "source": [
    "if expression 1:   \n",
    "    # block of statements   \n",
    "  \n",
    "elif expression 2:   \n",
    "    # block of statements   \n",
    "  \n",
    "elif expression 3:   \n",
    "    # block of statements   \n",
    "  \n",
    "else:   \n",
    "    # block of statements  "
   ]
  },
  {
   "cell_type": "markdown",
   "metadata": {},
   "source": [
    "<h2><div style=\"font-family: Trebuchet MS; background-color: #176BA0;; color: #FFFFFF; padding: 12px; font-size: 35px; line-height: 1.5;text-align: center; line-height: 1.;\"> Flow Chart📈 </div> "
   ]
  },
  {
   "attachments": {
    "image.png": {
     "image/png": "[encoded data removed]"
    }
   },
   "cell_type": "markdown",
   "metadata": {},
   "source": [
    "![image.png](attachment:image.png)"
   ]
  },
  {
   "attachments": {
    "image.png": {
     "image/png": "[encoded data removed]"
    }
   },
   "cell_type": "markdown",
   "metadata": {},
   "source": [
    "![image.png](attachment:image.png)"
   ]
  },
  {
   "cell_type": "markdown",
   "metadata": {},
   "source": [
    "![](4.png)"
   ]
  },
  {
   "cell_type": "code",
   "execution_count": null,
   "metadata": {},
   "outputs": [],
   "source": [
    ">90  -- a+\n",
    "\n",
    "75-90 -- a\n",
    "\n",
    "60-75-- b+\n",
    "50-60 b\n",
    "\n",
    "c"
   ]
  },
  {
   "cell_type": "code",
   "execution_count": 38,
   "metadata": {},
   "outputs": [
    {
     "name": "stdout",
     "output_type": "stream",
     "text": [
      "Enter the number?50\n",
      "number is equal to 50\n"
     ]
    }
   ],
   "source": [
    "#Example 1\n",
    "number = int(input(\"Enter the number?\"))  \n",
    "if number==10:  \n",
    "    print(\"number is equals to 10\")  \n",
    "elif number==50:  \n",
    "    print(\"number is equal to 50\");  \n",
    "elif number==100:  \n",
    "    print(\"number is equal to 100\");  \n",
    "else:  \n",
    "    print(\"number is not equal to 10, 50 or 100\");  "
   ]
  },
  {
   "cell_type": "code",
   "execution_count": 28,
   "metadata": {},
   "outputs": [
    {
     "name": "stdout",
     "output_type": "stream",
     "text": [
      "Enter the marks? 5\n",
      "Sorry you are fail ?\n"
     ]
    }
   ],
   "source": [
    "#Example 2\n",
    "marks = int(input(\"Enter the marks? \"))  \n",
    "if marks > 85 and marks <= 100:  \n",
    "   print(\"Congrats ! you scored grade A ...\")  \n",
    "elif marks > 60 and marks <= 85:  \n",
    "   print(\"You scored grade B + ...\")  \n",
    "elif marks > 40 and marks <= 60:  \n",
    "   print(\"You scored grade B ...\")  \n",
    "elif (marks > 30 and marks <= 40):  \n",
    "   print(\"You scored grade C ...\")  \n",
    "else:  \n",
    "   print(\"Sorry you are fail ?\")  "
   ]
  },
  {
   "cell_type": "code",
   "execution_count": 30,
   "metadata": {},
   "outputs": [
    {
     "name": "stdout",
     "output_type": "stream",
     "text": [
      "a and b are equal\n"
     ]
    }
   ],
   "source": [
    "a = 33\n",
    "b = 33\n",
    "if b > a:\n",
    "  print(\"b is greater than a\")\n",
    "elif a == b:\n",
    "  print(\"a and b are equal\")"
   ]
  },
  {
   "cell_type": "markdown",
   "metadata": {},
   "source": [
    "# Else\n",
    "The else keyword catches anything which isn't caught by the preceding conditions."
   ]
  },
  {
   "cell_type": "code",
   "execution_count": 31,
   "metadata": {},
   "outputs": [
    {
     "name": "stdout",
     "output_type": "stream",
     "text": [
      "a is greater than b\n"
     ]
    }
   ],
   "source": [
    "a = 200\n",
    "b = 33\n",
    "if b > a:\n",
    "  print(\"b is greater than a\")\n",
    "elif a == b:\n",
    "  print(\"a and b are equal\")\n",
    "else:\n",
    "  print(\"a is greater than b\")"
   ]
  },
  {
   "cell_type": "code",
   "execution_count": 44,
   "metadata": {},
   "outputs": [
    {
     "name": "stdout",
     "output_type": "stream",
     "text": [
      "The number is between 0 and 50\n"
     ]
    }
   ],
   "source": [
    "some_num = 34\n",
    "if some_num >= 0 and some_num < 50:\n",
    "    print(\"The number is between 0 and 50\")\n",
    "elif some_num >= 50 and some_num < 100:\n",
    "    print(\"The number is between 50 and 100\")\n",
    "elif some_num >= 100 and some_num < 200:\n",
    "    print(\"The number is between 100 and 200\")\n",
    "elif some_num >= 200 and some_num < 300:\n",
    "    print(\"The number is between 200 and 300\")"
   ]
  },
  {
   "cell_type": "markdown",
   "metadata": {},
   "source": [
    "<h2><div style=\"font-family: Trebuchet MS; background-color: #176BA0;; color: #FFFFFF; padding: 12px; font-size: 35px; line-height: 1.5;text-align: center; line-height: 1.;\">  🅽🅴🆂🆃🅴🅳--🅸🅵--🆂🆃🅰🆃🅴🅼🅴🅽🆃</div> "
   ]
  },
  {
   "cell_type": "raw",
   "metadata": {},
   "source": [
    "A nested if is an if statement that is the target of another if statement. Nested if statements mean an if statement inside another if statement. Yes, Python allows us to nest if statements within if statements. i.e, we can place an if statement inside another if statement."
   ]
  },
  {
   "cell_type": "raw",
   "metadata": {},
   "source": [
    "Syntax: \n",
    "\n",
    "if (condition1):\n",
    "   # Executes when condition1 is true\n",
    "   if (condition2): \n",
    "      # Executes when condition2 is true\n",
    "   # if Block is end here\n",
    "# if Block is end here"
   ]
  },
  {
   "cell_type": "code",
   "execution_count": 40,
   "metadata": {},
   "outputs": [
    {
     "name": "stdout",
     "output_type": "stream",
     "text": [
      "Above ten,\n",
      "but not above 20.\n"
     ]
    }
   ],
   "source": [
    "x = 15\n",
    "\n",
    "if x > 10:\n",
    "  print(\"Above ten,\")\n",
    "  if x > 20:\n",
    "    print(\"and also above 20!\")\n",
    "  else:\n",
    "    print(\"but not above 20.\")"
   ]
  },
  {
   "cell_type": "code",
   "execution_count": 44,
   "metadata": {},
   "outputs": [],
   "source": [
    "i = 13\n",
    "if (i == 10): \n",
    "    #  First if statement \n",
    "    if (i < 15): \n",
    "        print (\"i is smaller than 15\") \n",
    "    # Nested - if statement \n",
    "    # Will only be executed if statement above \n",
    "    # it is true \n",
    "    if (i < 12): \n",
    "        print (\"i is smaller than 12 too\") \n",
    "    else: \n",
    "        print (\"i is greater than 15\")\n"
   ]
  },
  {
   "cell_type": "code",
   "execution_count": 40,
   "metadata": {},
   "outputs": [
    {
     "name": "stdout",
     "output_type": "stream",
     "text": [
      "i is smaller than 15\n",
      "i is smaller than 12 too\n"
     ]
    }
   ],
   "source": [
    "# python program to illustrate nested If statement\n",
    "#!/usr/bin/python\n",
    "i = 10\n",
    "if (i == 10):\n",
    "\n",
    "\t# First if statement\n",
    "\tif (i < 15):\n",
    "\t\tprint(\"i is smaller than 15\")\n",
    "\t\t\n",
    "\t# Nested - if statement\n",
    "\t# Will only be executed if statement above\n",
    "\t# it is true\n",
    "\tif (i < 12):\n",
    "\t\tprint(\"i is smaller than 12 too\")\n",
    "\telse:\n",
    "\t\tprint(\"i is greater than 15\")\n"
   ]
  },
  {
   "cell_type": "markdown",
   "metadata": {},
   "source": [
    "# Examples"
   ]
  },
  {
   "cell_type": "markdown",
   "metadata": {},
   "source": [
    "# if Statement\n",
    "# Next to girl in exam hall "
   ]
  },
  {
   "cell_type": "code",
   "execution_count": 6,
   "metadata": {},
   "outputs": [
    {
     "name": "stdout",
     "output_type": "stream",
     "text": [
      "Hold the fort, mama! Destiny has paired me with a girl. It's like having a study superhero by my side. Whenever I'm in doubt, I'll just glance over, and she'll unleash her super intellect!\n"
     ]
    }
   ],
   "source": [
    "# Exam hall scenario with humor\n",
    "sitting_next_to_girl = True\n",
    "\n",
    "if sitting_next_to_girl:\n",
    "    print(\"Hold the fort, mama! Destiny has paired me with a girl. It's like having a study superhero by my side. Whenever I'm in doubt, I'll just glance over, and she'll unleash her super intellect!\")"
   ]
  },
  {
   "cell_type": "markdown",
   "metadata": {},
   "source": [
    "# If-Else Statement"
   ]
  },
  {
   "cell_type": "code",
   "execution_count": 7,
   "metadata": {},
   "outputs": [
    {
     "name": "stdout",
     "output_type": "stream",
     "text": [
      "Hold on, mama! Destiny has placed me next to a girl. It's like having a personal 'answer sheet whisperer.' If in doubt, I'll just follow her lead. Teamwork makes the dream work!\n"
     ]
    }
   ],
   "source": [
    "# Exam hall scenario with humor\n",
    "sitting_next_to_girl = True\n",
    "\n",
    "if sitting_next_to_girl:\n",
    "    print(\"Hold on, mama! Destiny has placed me next to a girl. It's like having a personal 'answer sheet whisperer.' If in doubt, I'll just follow her lead. Teamwork makes the dream work!\")\n",
    "else:\n",
    "    print(\"No girl-next-to-me excitement today. But no worries. I'm a lone wolf in the exam wilderness. Just me, my thoughts, and the constant battle against the urge to doodle in the margins.\")\n"
   ]
  },
  {
   "cell_type": "code",
   "execution_count": 8,
   "metadata": {},
   "outputs": [
    {
     "name": "stdout",
     "output_type": "stream",
     "text": [
      "Oh, mama mia! Destiny's playing matchmaker in the exam hall. I'm sitting next to a girl, and it feels like we're co-piloting the spaceship of knowledge. Buckle up, it's an intergalactic exam adventure!\n"
     ]
    }
   ],
   "source": [
    "# Exam hall scenario with humor\n",
    "sitting_next_to_girl = True\n",
    "\n",
    "if sitting_next_to_girl:\n",
    "    print(\"Oh, mama mia! Destiny's playing matchmaker in the exam hall. I'm sitting next to a girl, and it feels like we're co-piloting the spaceship of knowledge. Buckle up, it's an intergalactic exam adventure!\")\n",
    "else:\n",
    "    print(\"No girl-next-to-me blockbuster today. But fear not, I'm the lone explorer navigating the vast sea of exam questions. It's like a solo mission to the academic moon.\")\n"
   ]
  },
  {
   "cell_type": "markdown",
   "metadata": {},
   "source": [
    "# Elif Statement\n",
    "# Pickeupline Example"
   ]
  },
  {
   "cell_type": "code",
   "execution_count": null,
   "metadata": {},
   "outputs": [],
   "source": [
    "user_input = input(\"What's the occasion? (e.g., date, party, casual conversation) \")\n",
    "\n",
    "if \"date\" in user_input.lower():\n",
    "    print(\"Are you a magician? Because whenever I look at you, everyone else disappears.\")\n",
    "elif \"party\" in user_input.lower():\n",
    "    print(\"Do you have a sunburn, or are you always this hot?\")\n",
    "elif \"casual\" in user_input.lower():\n",
    "    print(\"Are you a camera? Because every time I see you, I smile.\")\n",
    "elif \"work\" in user_input.lower():\n",
    "    print(\"Are you a project manager? Because you've got everything scheduled in my heart.\")\n",
    "elif \"travel\" in user_input.lower():\n",
    "    print(\"Are you a passport? Because I want to take you everywhere with me.\")\n",
    "elif \"gym\" in user_input.lower():\n",
    "    print(\"Are you a squat? Because you've got my heart doing reps.\")\n",
    "elif \"bookstore\" in user_input.lower():\n",
    "    print(\"Are you a bestseller? Because you've written yourself into my story.\")\n",
    "elif \"beach\" in user_input.lower():\n",
    "    print(\"Are you a seashell? Because I'd love to pick you up on the beach.\")\n",
    "elif \"cooking\" in user_input.lower():\n",
    "    print(\"Are you a chef? Because you've added spice to my life.\")\n",
    "elif \"gardening\" in user_input.lower():\n",
    "    print(\"Are you a flower? Because you've blossomed in my heart.\")\n",
    "else:\n",
    "    print(\"I'm not sure about the occasion, but here's a classic: Are you a parking ticket? Because you've got 'FINE' written all over you.\")\n"
   ]
  },
  {
   "cell_type": "markdown",
   "metadata": {},
   "source": [
    "# Nested If statement\n",
    "# How to impress Girl "
   ]
  },
  {
   "cell_type": "code",
   "execution_count": 9,
   "metadata": {},
   "outputs": [
    {
     "name": "stdout",
     "output_type": "stream",
     "text": [
      "Step 1: Dress well and maintain personal hygiene.\n",
      "Step 2: Engage in interesting and meaningful conversations.\n",
      "Step 3: Make her laugh with your sense of humor.\n",
      "Congratulations! You've successfully impressed her!\n"
     ]
    }
   ],
   "source": [
    "looks_good = True\n",
    "good_conversation = True\n",
    "sense_of_humor = True\n",
    "\n",
    "if looks_good:\n",
    "    print(\"Step 1: Dress well and maintain personal hygiene.\")\n",
    "\n",
    "    if good_conversation:\n",
    "        print(\"Step 2: Engage in interesting and meaningful conversations.\")\n",
    "        \n",
    "        if sense_of_humor:\n",
    "            print(\"Step 3: Make her laugh with your sense of humor.\")\n",
    "            print(\"Congratulations! You've successfully impressed her!\")\n",
    "        else:\n",
    "            print(\"Work on adding a touch of humor to your conversations.\")\n",
    "    else:\n",
    "        print(\"Improve your conversation skills. Ask open-ended questions and actively listen.\")\n",
    "else:\n",
    "    print(\"Take care of your appearance. First impressions matter.\")\n"
   ]
  },
  {
   "cell_type": "markdown",
   "metadata": {},
   "source": [
    "<h2><div style=\"font-family: Trebuchet MS; background-color: #176BA0;; color: #FFFFFF; padding: 12px; font-size: 35px; line-height: 1.5;text-align: center; line-height: 1.;\"> 🅿🅰🆂🆂--🆂🆃🅰🆃🅴🅼🅴🅽🆃</div> "
   ]
  },
  {
   "cell_type": "raw",
   "metadata": {},
   "source": [
    "\n",
    "if statements cannot be empty, but if you for some reason have an if statement with no content, put in the pass statement to avoid getting an error."
   ]
  },
  {
   "cell_type": "code",
   "execution_count": 41,
   "metadata": {},
   "outputs": [],
   "source": [
    "#Example\n",
    "a = 33\n",
    "b = 200\n",
    "\n",
    "if b > a:\n",
    "  pass"
   ]
  },
  {
   "cell_type": "markdown",
   "metadata": {},
   "source": [
    "<h1>🆂🅷🅾🆁🆃--🅷🅰🅽🅳--🅸🅵--🆂🆃🅰🆃🅴🅼🅴🅽🆃</h1>"
   ]
  },
  {
   "cell_type": "markdown",
   "metadata": {},
   "source": [
    "If you have only one statement to execute, you can put it on the same line as the if statement.\n"
   ]
  },
  {
   "cell_type": "raw",
   "metadata": {},
   "source": [
    "Whenever there is only a single statement to be executed inside the if block then shorthand if can be used. The statement can be put on the same line as the if statement. \n",
    "\n",
    "Syntax: \n",
    "\n",
    "if condition: statement"
   ]
  },
  {
   "cell_type": "code",
   "execution_count": 48,
   "metadata": {},
   "outputs": [
    {
     "name": "stdout",
     "output_type": "stream",
     "text": [
      "i is less than 15\n"
     ]
    }
   ],
   "source": [
    "# Python program to illustrate short hand if\n",
    "i = 10\n",
    "if i < 15: \n",
    "    print(\"i is less than 15\")\n"
   ]
  },
  {
   "cell_type": "code",
   "execution_count": 47,
   "metadata": {},
   "outputs": [
    {
     "name": "stdout",
     "output_type": "stream",
     "text": [
      "a is greater than b\n"
     ]
    }
   ],
   "source": [
    "a=15\n",
    "b=13\n",
    "#Example: One line if statement:\n",
    "\n",
    "if a > b: print(\"a is greater than b\")"
   ]
  },
  {
   "cell_type": "markdown",
   "metadata": {},
   "source": [
    "<h1>🆂🅷🅾🆁🆃....🅷🅰🅽🅳...🅸🅵.....🅴🅻🆂🅴......🆂🆃🅰🆃🅴🅼🅴🅽🆃</h1>"
   ]
  },
  {
   "cell_type": "raw",
   "metadata": {},
   "source": [
    "If you have only one statement to execute, one for if, and one for else, you can put it all on the same line:\n",
    "\n"
   ]
  },
  {
   "cell_type": "raw",
   "metadata": {},
   "source": [
    "Short Hand if-else statement\n",
    "This can be used to write the if-else statements in a single line where there is only one statement to be executed in both if and else block. \n",
    "\n",
    "Syntax:\n",
    "\n",
    "statement_when_True if condition else statement_when_False"
   ]
  },
  {
   "cell_type": "code",
   "execution_count": 43,
   "metadata": {},
   "outputs": [
    {
     "name": "stdout",
     "output_type": "stream",
     "text": [
      "True\n"
     ]
    }
   ],
   "source": [
    "# Python program to illustrate short hand if-else\n",
    "i = 10\n",
    "print(True) if i < 15 else print(False)\n"
   ]
  },
  {
   "cell_type": "code",
   "execution_count": 33,
   "metadata": {},
   "outputs": [
    {
     "name": "stdout",
     "output_type": "stream",
     "text": [
      "B\n"
     ]
    }
   ],
   "source": [
    "#Example: One line if else statement:\n",
    "\n",
    "a = 2\n",
    "b = 330\n",
    "print(\"A\") if a > b else print(\"B\")"
   ]
  },
  {
   "cell_type": "markdown",
   "metadata": {},
   "source": [
    "This technique is known as Ternary Operators, or Conditional Expressions.\n"
   ]
  },
  {
   "cell_type": "code",
   "execution_count": 34,
   "metadata": {},
   "outputs": [
    {
     "name": "stdout",
     "output_type": "stream",
     "text": [
      "=\n"
     ]
    }
   ],
   "source": [
    "#You can also have multiple else statements on the same line:\n",
    "\n",
    "#Example: One line if else statement, with 3 conditions:\n",
    "\n",
    "a = 330\n",
    "b = 330\n",
    "print(\"A\") if a > b else print(\"=\") if a == b else print(\"B\")\n"
   ]
  },
  {
   "cell_type": "markdown",
   "metadata": {},
   "source": [
    "# Logical operators¶"
   ]
  },
  {
   "cell_type": "markdown",
   "metadata": {},
   "source": [
    "Sometimes you want to check more than one condition at once. For example, you might want to check if one condition and another condition is **True**. Logical operators allow you to combine or modify conditions.\n",
    "<ul>\n",
    "    <li><code>and</code></li>\n",
    "    <li><code>or</code></li>\n",
    "    <li><code>not</code></li>\n",
    "</ul>\n",
    "\n",
    "These operators are summarized for two variables using the following truth tables:  "
   ]
  },
  {
   "cell_type": "markdown",
   "metadata": {},
   "source": [
    "<img src=\"https://s3-api.us-geo.objectstorage.softlayer.net/cf-courses-data/CognitiveClass/PY0101EN/Chapter%203/Images/CondsTable.png\" width=\"650\" />"
   ]
  },
  {
   "cell_type": "markdown",
   "metadata": {},
   "source": [
    "# And\n",
    "The and keyword is a logical operator, and is used to combine conditional statements:"
   ]
  },
  {
   "cell_type": "code",
   "execution_count": 35,
   "metadata": {},
   "outputs": [
    {
     "name": "stdout",
     "output_type": "stream",
     "text": [
      "Both conditions are True\n"
     ]
    }
   ],
   "source": [
    "#Example: Test if a is greater than b, AND if c is greater than a:\n",
    "\n",
    "a = 200\n",
    "b = 33\n",
    "c = 500\n",
    "if a > b and c > a:\n",
    "  print(\"Both conditions are True\")"
   ]
  },
  {
   "cell_type": "code",
   "execution_count": 56,
   "metadata": {},
   "outputs": [
    {
     "name": "stdout",
     "output_type": "stream",
     "text": [
      "Album year was in between 1980 and 1989\n",
      "\n",
      "Do Stuff..\n"
     ]
    }
   ],
   "source": [
    "# Condition statement example\n",
    "\n",
    "album_year = 1980\n",
    "\n",
    "if(album_year > 1979) and (album_year < 1990):\n",
    "    print (\"Album year was in between 1980 and 1989\")\n",
    "    \n",
    "print(\"\")\n",
    "print(\"Do Stuff..\")"
   ]
  },
  {
   "cell_type": "markdown",
   "metadata": {},
   "source": [
    "# Or\n",
    "The or keyword is a logical operator, and is used to combine conditional statements:\n"
   ]
  },
  {
   "cell_type": "code",
   "execution_count": 38,
   "metadata": {},
   "outputs": [
    {
     "name": "stdout",
     "output_type": "stream",
     "text": [
      "At least one of the conditions is True\n"
     ]
    }
   ],
   "source": [
    "\n",
    "#Example: Test if a is greater than b, OR if a is greater than c:\n",
    "\n",
    "a = 200\n",
    "b = 33\n",
    "c = 500\n",
    "if a > b or a > c:\n",
    "  print(\"At least one of the conditions is True\")"
   ]
  },
  {
   "cell_type": "code",
   "execution_count": 57,
   "metadata": {},
   "outputs": [
    {
     "name": "stdout",
     "output_type": "stream",
     "text": [
      "Album was not made in the 1980's\n"
     ]
    }
   ],
   "source": [
    "# Condition statement example\n",
    "\n",
    "album_year = 1990\n",
    "\n",
    "if(album_year < 1980) or (album_year > 1989):\n",
    "    print (\"Album was not made in the 1980's\")\n",
    "else:\n",
    "    print(\"The Album was made in the 1980's \")"
   ]
  },
  {
   "cell_type": "markdown",
   "metadata": {},
   "source": [
    "# not operations"
   ]
  },
  {
   "cell_type": "code",
   "execution_count": 58,
   "metadata": {},
   "outputs": [
    {
     "name": "stdout",
     "output_type": "stream",
     "text": [
      "Album year is not 1984\n"
     ]
    }
   ],
   "source": [
    "# Condition statement example\n",
    "\n",
    "album_year = 1983\n",
    "\n",
    "if not (album_year == '1984'):\n",
    "    print (\"Album year is not 1984\")"
   ]
  },
  {
   "cell_type": "markdown",
   "metadata": {},
   "source": [
    "# Boolean Operation"
   ]
  },
  {
   "cell_type": "code",
   "execution_count": 45,
   "metadata": {},
   "outputs": [],
   "source": [
    "active = True\n",
    "if not active:\n",
    "    print('This account is not active')"
   ]
  },
  {
   "cell_type": "code",
   "execution_count": 46,
   "metadata": {},
   "outputs": [],
   "source": [
    "if some_num > 50 or not active:\n",
    "    print('One of these conditions has to be true')"
   ]
  },
  {
   "cell_type": "markdown",
   "metadata": {},
   "source": [
    "# If statements with lists and dictionaries¶"
   ]
  },
  {
   "cell_type": "code",
   "execution_count": 49,
   "metadata": {},
   "outputs": [],
   "source": [
    "student_list = ['Ayaz', 'Athira', 'Deb', 'Priya']"
   ]
  },
  {
   "cell_type": "code",
   "execution_count": 48,
   "metadata": {},
   "outputs": [
    {
     "data": {
      "text/plain": [
       "False"
      ]
     },
     "execution_count": 48,
     "metadata": {},
     "output_type": "execute_result"
    }
   ],
   "source": [
    "'India' in student_list"
   ]
  },
  {
   "cell_type": "code",
   "execution_count": 50,
   "metadata": {},
   "outputs": [],
   "source": [
    "if 'India' in student_list:\n",
    "    print('Yes he is a student at this school')"
   ]
  },
  {
   "cell_type": "code",
   "execution_count": 51,
   "metadata": {},
   "outputs": [
    {
     "name": "stdout",
     "output_type": "stream",
     "text": [
      "Yes she is a student in this school\n"
     ]
    }
   ],
   "source": [
    "if 'Deb' in student_list:\n",
    "    print('Yes she is a student in this school')"
   ]
  },
  {
   "cell_type": "markdown",
   "metadata": {},
   "source": [
    "# If Statement from Dictionary\n"
   ]
  },
  {
   "cell_type": "code",
   "execution_count": 51,
   "metadata": {},
   "outputs": [],
   "source": [
    "math_scores = {\n",
    "    \"Ram\": 97, \n",
    "    \"Kumar\": 35,\n",
    "    \"Kishan\": 67,\n",
    "    \"Natasha\": 73\n",
    "}"
   ]
  },
  {
   "cell_type": "code",
   "execution_count": 52,
   "metadata": {},
   "outputs": [
    {
     "data": {
      "text/plain": [
       "True"
      ]
     },
     "execution_count": 52,
     "metadata": {},
     "output_type": "execute_result"
    }
   ],
   "source": [
    "'Ram' in math_scores"
   ]
  },
  {
   "cell_type": "code",
   "execution_count": 53,
   "metadata": {},
   "outputs": [
    {
     "name": "stdout",
     "output_type": "stream",
     "text": [
      "Yes I do have scores for Ram\n"
     ]
    }
   ],
   "source": [
    "if 'Ram' in math_scores:\n",
    "    print('Yes I do have scores for Ram')"
   ]
  },
  {
   "cell_type": "code",
   "execution_count": 54,
   "metadata": {},
   "outputs": [],
   "source": [
    "if 'Ayoub' in math_scores:\n",
    "    print('Yes I do have scores for Ayoub')"
   ]
  },
  {
   "cell_type": "code",
   "execution_count": null,
   "metadata": {},
   "outputs": [],
   "source": []
  }
 ],
 "metadata": {
  "kernelspec": {
   "display_name": "Python 3 (ipykernel)",
   "language": "python",
   "name": "python3"
  },
  "language_info": {
   "codemirror_mode": {
    "name": "ipython",
    "version": 3
   },
   "file_extension": ".py",
   "mimetype": "text/x-python",
   "name": "python",
   "nbconvert_exporter": "python",
   "pygments_lexer": "ipython3",
   "version": "3.9.7"
  }
 },
 "nbformat": 4,
 "nbformat_minor": 4
}
