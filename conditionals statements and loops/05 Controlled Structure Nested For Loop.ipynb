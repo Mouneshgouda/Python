{
 "cells": [
  {
   "cell_type": "markdown",
   "metadata": {},
   "source": [
    "<h6><div style=\"font-family: Trebuchet MS; background-color: #1b191d; color: #FFFFFF; padding: 12px; font-size: 35px; line-height: 1.5;text-align: center; line-height: 1.;\">🅶🆄 🆁🅰🅽🅽🅰 🅶🅾🆄🅳🅰--🅳🅰🆃🅰🆂🅲🅸🅴🅽🆃 👨‍💻</div> </h6>"
   ]
  },
  {
   "cell_type": "markdown",
   "metadata": {},
   "source": [
    "<h2><div style=\"font-family: Trebuchet MS; background-color: #176BA0;; color: #FFFFFF; padding: 12px; font-size: 35px; line-height: 1.5;text-align: center; line-height: 1.;\">🅽🅴🆂🆃🅴🅳--🅵🅾🆁--🅻🅾🅾🅿--🧨💥</div> "
   ]
  },
  {
   "cell_type": "raw",
   "metadata": {},
   "source": [
    "Python allows us to nest any number of for loops inside a for loop. The inner loop is executed n number of times for every iteration of the outer loop. The syntax is given below."
   ]
  },
  {
   "cell_type": "markdown",
   "metadata": {},
   "source": [
    "Syntax\n",
    "\n",
    "for iterating_var1 in sequence:  #outer loop  \n",
    "    for iterating_var2 in sequence:  #inner loop  \n",
    "        #block of statements     \n",
    "#Other statements    \n"
   ]
  },
  {
   "cell_type": "raw",
   "metadata": {},
   "source": [
    "for iterator_var in sequence:\n",
    "\tfor iterator_var in sequence:\n",
    "\t\tstatements(s)\n",
    "\t\tstatements(s)\n"
   ]
  },
  {
   "cell_type": "code",
   "execution_count": 1,
   "metadata": {},
   "outputs": [
    {
     "name": "stdout",
     "output_type": "stream",
     "text": [
      "1 a\n",
      "1 b\n",
      "1 c\n",
      "1 d\n",
      "2 a\n",
      "2 b\n",
      "2 c\n",
      "2 d\n",
      "3 a\n",
      "3 b\n",
      "3 c\n",
      "3 d\n",
      "4 a\n",
      "4 b\n",
      "4 c\n",
      "4 d\n"
     ]
    }
   ],
   "source": [
    "for i in range(1, 5):#OUTER For Loop\n",
    "\n",
    "    for j in ['a', 'b', 'c', 'd']:# Inner For Loop\n",
    "        \n",
    "        print(i, j)"
   ]
  },
  {
   "cell_type": "code",
   "execution_count": 17,
   "metadata": {},
   "outputs": [
    {
     "name": "stdout",
     "output_type": "stream",
     "text": [
      "1 \n",
      "2 2 \n",
      "3 3 3 \n",
      "4 4 4 4 \n"
     ]
    }
   ],
   "source": [
    "for i in range(1, 5):\n",
    "    for j in range(i):\n",
    "        print(i, end=' ')\n",
    "    print('')\n"
   ]
  },
  {
   "cell_type": "code",
   "execution_count": 16,
   "metadata": {},
   "outputs": [
    {
     "name": "stdout",
     "output_type": "stream",
     "text": [
      "1 \n",
      "\n",
      "2 2 \n",
      "\n",
      "3 3 3 \n",
      "\n",
      "4 4 4 4 \n",
      "\n"
     ]
    }
   ],
   "source": [
    "for i in range(1, 5):\n",
    "    for j in range(i):\n",
    "        print(i, end=' ')\n",
    "    print('\\n')\n"
   ]
  },
  {
   "cell_type": "code",
   "execution_count": 21,
   "metadata": {},
   "outputs": [
    {
     "name": "stdout",
     "output_type": "stream",
     "text": [
      "1   \n",
      "2   2   \n",
      "3   3   3   \n",
      "4   4   4   4   \n"
     ]
    }
   ],
   "source": [
    "# Python program to illustrate\n",
    "# nested for loops in Python\n",
    "\n",
    "for i in range(1, 5):\n",
    "\tfor j in range(i):\n",
    "\t\tprint(i,end = '   ')\n",
    "\tprint()\n"
   ]
  },
  {
   "cell_type": "code",
   "execution_count": 23,
   "metadata": {},
   "outputs": [
    {
     "name": "stdout",
     "output_type": "stream",
     "text": [
      "jagan   \n",
      "jagan   jagan   \n",
      "jagan   jagan   jagan   \n",
      "jagan   jagan   jagan   jagan   \n",
      "jagan   jagan   jagan   jagan   jagan   \n"
     ]
    }
   ],
   "source": [
    "# write code to print your name \n",
    "# as many times as your input range in the outer loop\n",
    "# for example 5 print your name as shown below \n",
    "# print \n",
    "\n",
    "for i in range(1,6):\n",
    "    for j in range(i):\n",
    "        print('jagan', end = '   ')\n",
    "    print()\n"
   ]
  },
  {
   "cell_type": "code",
   "execution_count": 2,
   "metadata": {},
   "outputs": [
    {
     "name": "stdout",
     "output_type": "stream",
     "text": [
      "Enter the rows:4\n",
      "\n",
      "*\n",
      "**\n",
      "***\n",
      "****\n"
     ]
    }
   ],
   "source": [
    "#Example- 1: Nested for loop\n",
    "# User input for number of rows  \n",
    "rows = int(input(\"Enter the rows:\"))  \n",
    "# Outer loop will print number of rows  \n",
    "for i in range(0,rows+1):  \n",
    "# Inner loop will print number of Astrisk  \n",
    "    for j in range(i):  \n",
    "        print(\"*\",end = '')  \n",
    "    print()  \n"
   ]
  },
  {
   "cell_type": "code",
   "execution_count": 4,
   "metadata": {},
   "outputs": [
    {
     "name": "stdout",
     "output_type": "stream",
     "text": [
      "Enter the rows5\n",
      "\n",
      "1\n",
      "22\n",
      "333\n",
      "4444\n",
      "55555\n"
     ]
    }
   ],
   "source": [
    "#Example-2: Program to number pyramid.\n",
    "rows = int(input(\"Enter the rows\"))  \n",
    "for i in range(0,rows+1):  \n",
    "    for j in range(i):  \n",
    "        print(i,end = '')  \n",
    "    print()  "
   ]
  }
 ],
 "metadata": {
  "kernelspec": {
   "display_name": "Python 3 (ipykernel)",
   "language": "python",
   "name": "python3"
  },
  "language_info": {
   "codemirror_mode": {
    "name": "ipython",
    "version": 3
   },
   "file_extension": ".py",
   "mimetype": "text/x-python",
   "name": "python",
   "nbconvert_exporter": "python",
   "pygments_lexer": "ipython3",
   "version": "3.9.7"
  }
 },
 "nbformat": 4,
 "nbformat_minor": 4
}
